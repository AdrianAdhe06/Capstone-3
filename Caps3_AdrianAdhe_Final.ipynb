{
 "cells": [
  {
   "attachments": {},
   "cell_type": "markdown",
   "metadata": {},
   "source": [
    "## Daegu Apartment"
   ]
  },
  {
   "attachments": {},
   "cell_type": "markdown",
   "metadata": {},
   "source": [
    "Apartemen merupakan tempat sebagai pengganti rumah konvensional yang semakin lama harga tanahnya bisa semakin mahal. Hal ini dikarenakan mengecilnya lahan yang ada di perkotaan yang semakin kecil. Banyak masyarakat yang sudah menggunakan apartemen dibandingkan dengan membeli rumah. Apartemen pun dapat digunakan sebagai investasi dikarenakan harganya yang selalu meningkat. Harga dari apartemen ini dapat meningkat juga seiring berjalannya waktu dan juga tergantung dari lokasi tempat apartemen tersebut. Hal seperti seberapa dekat dengan fasilitas publik, universitas/sekolah, tahun dibangun, ukuran, jumlah fasilitas di apartemen, dll, juga dapat mempengaruhi harga dari apartemen."
   ]
  },
  {
   "attachments": {},
   "cell_type": "markdown",
   "metadata": {},
   "source": [
    "### **Problem Statement**"
   ]
  },
  {
   "attachments": {},
   "cell_type": "markdown",
   "metadata": {},
   "source": [
    "Kebanyakan harga dari properti seperti rumah biasanya akan terus meningkat seiring waktu. Tidak hanya rumah, harga dari unit apartemen pun akan terus meningkat seiring waktu. Hal tersebut dapat dikarenakan berkurangnya tanah yang ada dan juga bisa jadi karena adanya peningkatan dari segi akses dan fasilitas yang ada di sekitar dan dalam apartemen tersebut.\n",
    "\n",
    "Dikarenakan adanya peningkatan dari harga apartemen tersebut, banyak perusahaan properti yang ingin memprediksi kenaikan dari harga apartemen tersebut. Tidak hanya itu, banyak orang pun ingin mengetahui peningkatan dari harga tersebut untuk investasi. Hal tesebut membuat banyak pihak bertanya-tanya mengenai harga yang tepat untuk sebuah unit apartemen dijual. Oleh karena itu, penting untuk mengetahui prediksi harga apartemen di masa yang akan datang untuk memudahkan penjualan apartemen ataupun pembelian unit partemen."
   ]
  },
  {
   "attachments": {},
   "cell_type": "markdown",
   "metadata": {},
   "source": [
    "### **Tujuan**"
   ]
  },
  {
   "attachments": {},
   "cell_type": "markdown",
   "metadata": {},
   "source": [
    "Dilakukannya pembuatan model machine learning ini adalah untuk memprediksi harga dari unit apartemen berdasarkan variabel-variabel yang ada dalam dataset. Hal tersebut bertujuan agar memudahkan pihak properti ataupun indivdu yang ingin berinvestasi dalam properti unit apartemen memprediksi harga dari unit apartemen."
   ]
  },
  {
   "attachments": {},
   "cell_type": "markdown",
   "metadata": {},
   "source": [
    "### **Data Understanding**"
   ]
  },
  {
   "attachments": {},
   "cell_type": "markdown",
   "metadata": {},
   "source": [
    "Data yang digunakan berisikan tentang apartemen yang berada di Daegu, Korea Selatan\n",
    "\n",
    "Features:\n",
    "- HallwayType: Tipe apartemen\n",
    "- TimeToSubway: Waktu yang dibutuhkan untuk ke subway terdekat\n",
    "- SubwayStation: Nama subway station yang paling dekat\n",
    "- N_FacilitiesNearBy(ETC): Jumlah fasilitas terdekat\n",
    "- N_FacilitiesNearBy(PublicOffice): Jumlah public office terdekat\n",
    "- N_SchoolNearBy(University): Jumlah kampus terdekat\n",
    "- N_Parkinglot(Basement): Jumlah tempat parkir terdekat\n",
    "- YearBuilt: Tahun apartemen dibuat\n",
    "- N_FacilitiesInApt: Jumlah fasilitas yang ada di apartemen\n",
    "- Size(sqft): Ukuran apartemen (dalam ukuran square feet)\n",
    "- SalePrice: Harga apartemen (dalam Won)"
   ]
  },
  {
   "cell_type": "code",
   "execution_count": 81,
   "metadata": {},
   "outputs": [],
   "source": [
    "# Data manipulation\n",
    "import pandas as pd\n",
    "import numpy as np\n",
    "\n",
    "# Data Viz\n",
    "import matplotlib.pyplot as plt\n",
    "import seaborn as sns\n",
    "\n",
    "# Statistics\n",
    "import statsmodels.api as sm\n",
    "from statsmodels.stats.outliers_influence import variance_inflation_factor"
   ]
  },
  {
   "cell_type": "code",
   "execution_count": 82,
   "metadata": {},
   "outputs": [
    {
     "data": {
      "text/html": [
       "<div>\n",
       "<style scoped>\n",
       "    .dataframe tbody tr th:only-of-type {\n",
       "        vertical-align: middle;\n",
       "    }\n",
       "\n",
       "    .dataframe tbody tr th {\n",
       "        vertical-align: top;\n",
       "    }\n",
       "\n",
       "    .dataframe thead th {\n",
       "        text-align: right;\n",
       "    }\n",
       "</style>\n",
       "<table border=\"1\" class=\"dataframe\">\n",
       "  <thead>\n",
       "    <tr style=\"text-align: right;\">\n",
       "      <th></th>\n",
       "      <th>HallwayType</th>\n",
       "      <th>TimeToSubway</th>\n",
       "      <th>SubwayStation</th>\n",
       "      <th>N_FacilitiesNearBy(ETC)</th>\n",
       "      <th>N_FacilitiesNearBy(PublicOffice)</th>\n",
       "      <th>N_SchoolNearBy(University)</th>\n",
       "      <th>N_Parkinglot(Basement)</th>\n",
       "      <th>YearBuilt</th>\n",
       "      <th>N_FacilitiesInApt</th>\n",
       "      <th>Size(sqf)</th>\n",
       "      <th>SalePrice</th>\n",
       "    </tr>\n",
       "  </thead>\n",
       "  <tbody>\n",
       "    <tr>\n",
       "      <th>0</th>\n",
       "      <td>terraced</td>\n",
       "      <td>0-5min</td>\n",
       "      <td>Kyungbuk_uni_hospital</td>\n",
       "      <td>0.0</td>\n",
       "      <td>3.0</td>\n",
       "      <td>2.0</td>\n",
       "      <td>1270.0</td>\n",
       "      <td>2007</td>\n",
       "      <td>10</td>\n",
       "      <td>1387</td>\n",
       "      <td>346017</td>\n",
       "    </tr>\n",
       "    <tr>\n",
       "      <th>1</th>\n",
       "      <td>terraced</td>\n",
       "      <td>10min~15min</td>\n",
       "      <td>Kyungbuk_uni_hospital</td>\n",
       "      <td>1.0</td>\n",
       "      <td>5.0</td>\n",
       "      <td>1.0</td>\n",
       "      <td>0.0</td>\n",
       "      <td>1986</td>\n",
       "      <td>4</td>\n",
       "      <td>914</td>\n",
       "      <td>150442</td>\n",
       "    </tr>\n",
       "    <tr>\n",
       "      <th>2</th>\n",
       "      <td>mixed</td>\n",
       "      <td>15min~20min</td>\n",
       "      <td>Chil-sung-market</td>\n",
       "      <td>1.0</td>\n",
       "      <td>7.0</td>\n",
       "      <td>3.0</td>\n",
       "      <td>56.0</td>\n",
       "      <td>1997</td>\n",
       "      <td>5</td>\n",
       "      <td>558</td>\n",
       "      <td>61946</td>\n",
       "    </tr>\n",
       "    <tr>\n",
       "      <th>3</th>\n",
       "      <td>mixed</td>\n",
       "      <td>5min~10min</td>\n",
       "      <td>Bangoge</td>\n",
       "      <td>5.0</td>\n",
       "      <td>5.0</td>\n",
       "      <td>4.0</td>\n",
       "      <td>798.0</td>\n",
       "      <td>2005</td>\n",
       "      <td>7</td>\n",
       "      <td>914</td>\n",
       "      <td>165486</td>\n",
       "    </tr>\n",
       "    <tr>\n",
       "      <th>4</th>\n",
       "      <td>terraced</td>\n",
       "      <td>0-5min</td>\n",
       "      <td>Sin-nam</td>\n",
       "      <td>0.0</td>\n",
       "      <td>1.0</td>\n",
       "      <td>2.0</td>\n",
       "      <td>536.0</td>\n",
       "      <td>2006</td>\n",
       "      <td>5</td>\n",
       "      <td>1743</td>\n",
       "      <td>311504</td>\n",
       "    </tr>\n",
       "  </tbody>\n",
       "</table>\n",
       "</div>"
      ],
      "text/plain": [
       "  HallwayType TimeToSubway          SubwayStation  N_FacilitiesNearBy(ETC)  \\\n",
       "0    terraced       0-5min  Kyungbuk_uni_hospital                      0.0   \n",
       "1    terraced  10min~15min  Kyungbuk_uni_hospital                      1.0   \n",
       "2       mixed  15min~20min       Chil-sung-market                      1.0   \n",
       "3       mixed   5min~10min                Bangoge                      5.0   \n",
       "4    terraced       0-5min                Sin-nam                      0.0   \n",
       "\n",
       "   N_FacilitiesNearBy(PublicOffice)  N_SchoolNearBy(University)  \\\n",
       "0                               3.0                         2.0   \n",
       "1                               5.0                         1.0   \n",
       "2                               7.0                         3.0   \n",
       "3                               5.0                         4.0   \n",
       "4                               1.0                         2.0   \n",
       "\n",
       "   N_Parkinglot(Basement)  YearBuilt  N_FacilitiesInApt  Size(sqf)  SalePrice  \n",
       "0                  1270.0       2007                 10       1387     346017  \n",
       "1                     0.0       1986                  4        914     150442  \n",
       "2                    56.0       1997                  5        558      61946  \n",
       "3                   798.0       2005                  7        914     165486  \n",
       "4                   536.0       2006                  5       1743     311504  "
      ]
     },
     "execution_count": 82,
     "metadata": {},
     "output_type": "execute_result"
    }
   ],
   "source": [
    "df = pd.read_csv(r\"C:\\Users\\ASUS\\OneDrive\\bootcamp\\Modul 3\\Capstone 3\\data_daegu_apartment.csv\")\n",
    "\n",
    "df.head()"
   ]
  },
  {
   "attachments": {},
   "cell_type": "markdown",
   "metadata": {},
   "source": [
    "## Data Exploration"
   ]
  },
  {
   "cell_type": "code",
   "execution_count": 83,
   "metadata": {},
   "outputs": [
    {
     "name": "stdout",
     "output_type": "stream",
     "text": [
      "<class 'pandas.core.frame.DataFrame'>\n",
      "RangeIndex: 4123 entries, 0 to 4122\n",
      "Data columns (total 11 columns):\n",
      " #   Column                            Non-Null Count  Dtype  \n",
      "---  ------                            --------------  -----  \n",
      " 0   HallwayType                       4123 non-null   object \n",
      " 1   TimeToSubway                      4123 non-null   object \n",
      " 2   SubwayStation                     4123 non-null   object \n",
      " 3   N_FacilitiesNearBy(ETC)           4123 non-null   float64\n",
      " 4   N_FacilitiesNearBy(PublicOffice)  4123 non-null   float64\n",
      " 5   N_SchoolNearBy(University)        4123 non-null   float64\n",
      " 6   N_Parkinglot(Basement)            4123 non-null   float64\n",
      " 7   YearBuilt                         4123 non-null   int64  \n",
      " 8   N_FacilitiesInApt                 4123 non-null   int64  \n",
      " 9   Size(sqf)                         4123 non-null   int64  \n",
      " 10  SalePrice                         4123 non-null   int64  \n",
      "dtypes: float64(4), int64(4), object(3)\n",
      "memory usage: 354.4+ KB\n"
     ]
    }
   ],
   "source": [
    "df.info()"
   ]
  },
  {
   "attachments": {},
   "cell_type": "markdown",
   "metadata": {},
   "source": [
    "Dari 11 variabel yang ada di dalam dataset, tiga variabelnya merupakan variabel kategorikal, yaitu hallwaytype, timetosubway, dan juga subwastation."
   ]
  },
  {
   "cell_type": "code",
   "execution_count": 84,
   "metadata": {},
   "outputs": [
    {
     "data": {
      "text/html": [
       "<div>\n",
       "<style scoped>\n",
       "    .dataframe tbody tr th:only-of-type {\n",
       "        vertical-align: middle;\n",
       "    }\n",
       "\n",
       "    .dataframe tbody tr th {\n",
       "        vertical-align: top;\n",
       "    }\n",
       "\n",
       "    .dataframe thead th {\n",
       "        text-align: right;\n",
       "    }\n",
       "</style>\n",
       "<table border=\"1\" class=\"dataframe\">\n",
       "  <thead>\n",
       "    <tr style=\"text-align: right;\">\n",
       "      <th></th>\n",
       "      <th>N_FacilitiesNearBy(ETC)</th>\n",
       "      <th>N_FacilitiesNearBy(PublicOffice)</th>\n",
       "      <th>N_SchoolNearBy(University)</th>\n",
       "      <th>N_Parkinglot(Basement)</th>\n",
       "      <th>YearBuilt</th>\n",
       "      <th>N_FacilitiesInApt</th>\n",
       "      <th>Size(sqf)</th>\n",
       "      <th>SalePrice</th>\n",
       "    </tr>\n",
       "  </thead>\n",
       "  <tbody>\n",
       "    <tr>\n",
       "      <th>count</th>\n",
       "      <td>4123.000000</td>\n",
       "      <td>4123.000000</td>\n",
       "      <td>4123.000000</td>\n",
       "      <td>4123.000000</td>\n",
       "      <td>4123.000000</td>\n",
       "      <td>4123.000000</td>\n",
       "      <td>4123.000000</td>\n",
       "      <td>4123.000000</td>\n",
       "    </tr>\n",
       "    <tr>\n",
       "      <th>mean</th>\n",
       "      <td>1.930876</td>\n",
       "      <td>4.135338</td>\n",
       "      <td>2.746301</td>\n",
       "      <td>568.979141</td>\n",
       "      <td>2002.999757</td>\n",
       "      <td>5.817851</td>\n",
       "      <td>954.630851</td>\n",
       "      <td>221767.926995</td>\n",
       "    </tr>\n",
       "    <tr>\n",
       "      <th>std</th>\n",
       "      <td>2.198832</td>\n",
       "      <td>1.802640</td>\n",
       "      <td>1.496610</td>\n",
       "      <td>410.372742</td>\n",
       "      <td>8.905768</td>\n",
       "      <td>2.340507</td>\n",
       "      <td>383.805648</td>\n",
       "      <td>106739.839945</td>\n",
       "    </tr>\n",
       "    <tr>\n",
       "      <th>min</th>\n",
       "      <td>0.000000</td>\n",
       "      <td>0.000000</td>\n",
       "      <td>0.000000</td>\n",
       "      <td>0.000000</td>\n",
       "      <td>1978.000000</td>\n",
       "      <td>1.000000</td>\n",
       "      <td>135.000000</td>\n",
       "      <td>32743.000000</td>\n",
       "    </tr>\n",
       "    <tr>\n",
       "      <th>25%</th>\n",
       "      <td>0.000000</td>\n",
       "      <td>3.000000</td>\n",
       "      <td>2.000000</td>\n",
       "      <td>184.000000</td>\n",
       "      <td>1993.000000</td>\n",
       "      <td>4.000000</td>\n",
       "      <td>644.000000</td>\n",
       "      <td>144752.000000</td>\n",
       "    </tr>\n",
       "    <tr>\n",
       "      <th>50%</th>\n",
       "      <td>1.000000</td>\n",
       "      <td>5.000000</td>\n",
       "      <td>2.000000</td>\n",
       "      <td>536.000000</td>\n",
       "      <td>2006.000000</td>\n",
       "      <td>5.000000</td>\n",
       "      <td>910.000000</td>\n",
       "      <td>209734.000000</td>\n",
       "    </tr>\n",
       "    <tr>\n",
       "      <th>75%</th>\n",
       "      <td>5.000000</td>\n",
       "      <td>5.000000</td>\n",
       "      <td>4.000000</td>\n",
       "      <td>798.000000</td>\n",
       "      <td>2008.000000</td>\n",
       "      <td>7.000000</td>\n",
       "      <td>1149.000000</td>\n",
       "      <td>291150.000000</td>\n",
       "    </tr>\n",
       "    <tr>\n",
       "      <th>max</th>\n",
       "      <td>5.000000</td>\n",
       "      <td>7.000000</td>\n",
       "      <td>5.000000</td>\n",
       "      <td>1321.000000</td>\n",
       "      <td>2015.000000</td>\n",
       "      <td>10.000000</td>\n",
       "      <td>2337.000000</td>\n",
       "      <td>585840.000000</td>\n",
       "    </tr>\n",
       "  </tbody>\n",
       "</table>\n",
       "</div>"
      ],
      "text/plain": [
       "       N_FacilitiesNearBy(ETC)  N_FacilitiesNearBy(PublicOffice)  \\\n",
       "count              4123.000000                       4123.000000   \n",
       "mean                  1.930876                          4.135338   \n",
       "std                   2.198832                          1.802640   \n",
       "min                   0.000000                          0.000000   \n",
       "25%                   0.000000                          3.000000   \n",
       "50%                   1.000000                          5.000000   \n",
       "75%                   5.000000                          5.000000   \n",
       "max                   5.000000                          7.000000   \n",
       "\n",
       "       N_SchoolNearBy(University)  N_Parkinglot(Basement)    YearBuilt  \\\n",
       "count                 4123.000000             4123.000000  4123.000000   \n",
       "mean                     2.746301              568.979141  2002.999757   \n",
       "std                      1.496610              410.372742     8.905768   \n",
       "min                      0.000000                0.000000  1978.000000   \n",
       "25%                      2.000000              184.000000  1993.000000   \n",
       "50%                      2.000000              536.000000  2006.000000   \n",
       "75%                      4.000000              798.000000  2008.000000   \n",
       "max                      5.000000             1321.000000  2015.000000   \n",
       "\n",
       "       N_FacilitiesInApt    Size(sqf)      SalePrice  \n",
       "count        4123.000000  4123.000000    4123.000000  \n",
       "mean            5.817851   954.630851  221767.926995  \n",
       "std             2.340507   383.805648  106739.839945  \n",
       "min             1.000000   135.000000   32743.000000  \n",
       "25%             4.000000   644.000000  144752.000000  \n",
       "50%             5.000000   910.000000  209734.000000  \n",
       "75%             7.000000  1149.000000  291150.000000  \n",
       "max            10.000000  2337.000000  585840.000000  "
      ]
     },
     "execution_count": 84,
     "metadata": {},
     "output_type": "execute_result"
    }
   ],
   "source": [
    "df.describe()"
   ]
  },
  {
   "cell_type": "code",
   "execution_count": 85,
   "metadata": {},
   "outputs": [
    {
     "name": "stderr",
     "output_type": "stream",
     "text": [
      "C:\\Users\\ASUS\\AppData\\Local\\Temp\\ipykernel_24372\\313768415.py:1: UserWarning: \n",
      "\n",
      "`distplot` is a deprecated function and will be removed in seaborn v0.14.0.\n",
      "\n",
      "Please adapt your code to use either `displot` (a figure-level function with\n",
      "similar flexibility) or `histplot` (an axes-level function for histograms).\n",
      "\n",
      "For a guide to updating your code to use the new functions, please see\n",
      "https://gist.github.com/mwaskom/de44147ed2974457ad6372750bbe5751\n",
      "\n",
      "  sns.distplot(df['SalePrice'])\n"
     ]
    },
    {
     "data": {
      "image/png": "[encoded data removed]",
      "text/plain": [
       "<Figure size 640x480 with 1 Axes>"
      ]
     },
     "metadata": {},
     "output_type": "display_data"
    }
   ],
   "source": [
    "sns.distplot(df['SalePrice'])\n",
    "plt.title('Distribusi dari SalePrice')\n",
    "plt.show()"
   ]
  },
  {
   "cell_type": "code",
   "execution_count": 86,
   "metadata": {},
   "outputs": [
    {
     "name": "stderr",
     "output_type": "stream",
     "text": [
      "C:\\Users\\ASUS\\AppData\\Local\\Temp\\ipykernel_24372\\3741788573.py:1: FutureWarning: The default value of numeric_only in DataFrame.corr is deprecated. In a future version, it will default to False. Select only valid columns or specify the value of numeric_only to silence this warning.\n",
      "  corr_matrix = df.corr()\n"
     ]
    },
    {
     "data": {
      "image/png": "[encoded data removed]",
      "text/plain": [
       "<Figure size 640x480 with 2 Axes>"
      ]
     },
     "metadata": {},
     "output_type": "display_data"
    }
   ],
   "source": [
    "corr_matrix = df.corr()\n",
    "sns.heatmap(corr_matrix, annot=True)\n",
    "plt.show()"
   ]
  },
  {
   "attachments": {},
   "cell_type": "markdown",
   "metadata": {},
   "source": [
    "## Data Cleaning and Feature Engineering"
   ]
  },
  {
   "cell_type": "code",
   "execution_count": 87,
   "metadata": {},
   "outputs": [],
   "source": [
    "df.columns = df.columns.str.lower()"
   ]
  },
  {
   "cell_type": "code",
   "execution_count": 88,
   "metadata": {},
   "outputs": [
    {
     "data": {
      "text/plain": [
       "hallwaytype                         0\n",
       "timetosubway                        0\n",
       "subwaystation                       0\n",
       "n_facilitiesnearby(etc)             0\n",
       "n_facilitiesnearby(publicoffice)    0\n",
       "n_schoolnearby(university)          0\n",
       "n_parkinglot(basement)              0\n",
       "yearbuilt                           0\n",
       "n_facilitiesinapt                   0\n",
       "size(sqf)                           0\n",
       "saleprice                           0\n",
       "dtype: int64"
      ]
     },
     "execution_count": 88,
     "metadata": {},
     "output_type": "execute_result"
    }
   ],
   "source": [
    "df.isna().sum()"
   ]
  },
  {
   "attachments": {},
   "cell_type": "markdown",
   "metadata": {},
   "source": [
    "Dapat dilihat bahwa ternyata tidak ada missing values pada dataset ini"
   ]
  },
  {
   "cell_type": "code",
   "execution_count": 89,
   "metadata": {},
   "outputs": [
    {
     "data": {
      "text/plain": [
       "1422"
      ]
     },
     "execution_count": 89,
     "metadata": {},
     "output_type": "execute_result"
    }
   ],
   "source": [
    "df.duplicated().sum()"
   ]
  },
  {
   "cell_type": "code",
   "execution_count": 90,
   "metadata": {},
   "outputs": [
    {
     "data": {
      "text/html": [
       "<div>\n",
       "<style scoped>\n",
       "    .dataframe tbody tr th:only-of-type {\n",
       "        vertical-align: middle;\n",
       "    }\n",
       "\n",
       "    .dataframe tbody tr th {\n",
       "        vertical-align: top;\n",
       "    }\n",
       "\n",
       "    .dataframe thead th {\n",
       "        text-align: right;\n",
       "    }\n",
       "</style>\n",
       "<table border=\"1\" class=\"dataframe\">\n",
       "  <thead>\n",
       "    <tr style=\"text-align: right;\">\n",
       "      <th></th>\n",
       "      <th>hallwaytype</th>\n",
       "      <th>timetosubway</th>\n",
       "      <th>subwaystation</th>\n",
       "      <th>n_facilitiesnearby(etc)</th>\n",
       "      <th>n_facilitiesnearby(publicoffice)</th>\n",
       "      <th>n_schoolnearby(university)</th>\n",
       "      <th>n_parkinglot(basement)</th>\n",
       "      <th>yearbuilt</th>\n",
       "      <th>n_facilitiesinapt</th>\n",
       "      <th>size(sqf)</th>\n",
       "      <th>saleprice</th>\n",
       "    </tr>\n",
       "  </thead>\n",
       "  <tbody>\n",
       "    <tr>\n",
       "      <th>804</th>\n",
       "      <td>corridor</td>\n",
       "      <td>10min~15min</td>\n",
       "      <td>Myung-duk</td>\n",
       "      <td>5.0</td>\n",
       "      <td>7.0</td>\n",
       "      <td>5.0</td>\n",
       "      <td>0.0</td>\n",
       "      <td>1992</td>\n",
       "      <td>3</td>\n",
       "      <td>355</td>\n",
       "      <td>34513</td>\n",
       "    </tr>\n",
       "    <tr>\n",
       "      <th>1210</th>\n",
       "      <td>corridor</td>\n",
       "      <td>10min~15min</td>\n",
       "      <td>Myung-duk</td>\n",
       "      <td>5.0</td>\n",
       "      <td>7.0</td>\n",
       "      <td>5.0</td>\n",
       "      <td>0.0</td>\n",
       "      <td>1992</td>\n",
       "      <td>3</td>\n",
       "      <td>355</td>\n",
       "      <td>35398</td>\n",
       "    </tr>\n",
       "    <tr>\n",
       "      <th>2262</th>\n",
       "      <td>corridor</td>\n",
       "      <td>5min~10min</td>\n",
       "      <td>no_subway_nearby</td>\n",
       "      <td>1.0</td>\n",
       "      <td>4.0</td>\n",
       "      <td>1.0</td>\n",
       "      <td>218.0</td>\n",
       "      <td>2014</td>\n",
       "      <td>1</td>\n",
       "      <td>135</td>\n",
       "      <td>35398</td>\n",
       "    </tr>\n",
       "    <tr>\n",
       "      <th>3961</th>\n",
       "      <td>corridor</td>\n",
       "      <td>10min~15min</td>\n",
       "      <td>Myung-duk</td>\n",
       "      <td>5.0</td>\n",
       "      <td>7.0</td>\n",
       "      <td>5.0</td>\n",
       "      <td>0.0</td>\n",
       "      <td>1992</td>\n",
       "      <td>3</td>\n",
       "      <td>355</td>\n",
       "      <td>35840</td>\n",
       "    </tr>\n",
       "    <tr>\n",
       "      <th>3628</th>\n",
       "      <td>corridor</td>\n",
       "      <td>10min~15min</td>\n",
       "      <td>Myung-duk</td>\n",
       "      <td>5.0</td>\n",
       "      <td>7.0</td>\n",
       "      <td>5.0</td>\n",
       "      <td>0.0</td>\n",
       "      <td>1992</td>\n",
       "      <td>3</td>\n",
       "      <td>355</td>\n",
       "      <td>36283</td>\n",
       "    </tr>\n",
       "  </tbody>\n",
       "</table>\n",
       "</div>"
      ],
      "text/plain": [
       "     hallwaytype timetosubway     subwaystation  n_facilitiesnearby(etc)  \\\n",
       "804     corridor  10min~15min         Myung-duk                      5.0   \n",
       "1210    corridor  10min~15min         Myung-duk                      5.0   \n",
       "2262    corridor   5min~10min  no_subway_nearby                      1.0   \n",
       "3961    corridor  10min~15min         Myung-duk                      5.0   \n",
       "3628    corridor  10min~15min         Myung-duk                      5.0   \n",
       "\n",
       "      n_facilitiesnearby(publicoffice)  n_schoolnearby(university)  \\\n",
       "804                                7.0                         5.0   \n",
       "1210                               7.0                         5.0   \n",
       "2262                               4.0                         1.0   \n",
       "3961                               7.0                         5.0   \n",
       "3628                               7.0                         5.0   \n",
       "\n",
       "      n_parkinglot(basement)  yearbuilt  n_facilitiesinapt  size(sqf)  \\\n",
       "804                      0.0       1992                  3        355   \n",
       "1210                     0.0       1992                  3        355   \n",
       "2262                   218.0       2014                  1        135   \n",
       "3961                     0.0       1992                  3        355   \n",
       "3628                     0.0       1992                  3        355   \n",
       "\n",
       "      saleprice  \n",
       "804       34513  \n",
       "1210      35398  \n",
       "2262      35398  \n",
       "3961      35840  \n",
       "3628      36283  "
      ]
     },
     "execution_count": 90,
     "metadata": {},
     "output_type": "execute_result"
    }
   ],
   "source": [
    "df[df.duplicated()].sort_values(by='saleprice').head()"
   ]
  },
  {
   "attachments": {},
   "cell_type": "markdown",
   "metadata": {},
   "source": [
    "Dapat dilihat ternyata ada sekitar 1422 data yang terduplikasi di dalam dataset ini. Tetapi jika diteliti lebih lanjut, banyak data yang sebenarnya hanya sedikit mirip, bukan sama. Hal ini membuat data yang terduplikasi berarti tidak sebanyak 1422.\n",
    "\n",
    "Dikarenakan jika menggunakan df.duplicated() banyak data yang dianggap sebagai duplikat, maka dibuatlah algoritma yang dapat melihat adanya duplikat dalam dataset ini."
   ]
  },
  {
   "cell_type": "code",
   "execution_count": 91,
   "metadata": {},
   "outputs": [],
   "source": [
    "# duplicated_rows = []\n",
    "# num_rows = len(df)\n",
    "# for i in range(num_rows):\n",
    "#     for j in range(i + 1, num_rows):\n",
    "#         if df.iloc[i].equals(df.iloc[j]):\n",
    "#             duplicated_rows.append(i)\n",
    "#             duplicated_rows.append(j)"
   ]
  },
  {
   "cell_type": "code",
   "execution_count": 92,
   "metadata": {},
   "outputs": [],
   "source": [
    "# duplicated_rows = list(set(duplicated_rows))\n",
    "\n",
    "# total_duplicates = len(duplicated_rows)\n",
    "# print(\"Jumlah total data duplikat:\", total_duplicates)"
   ]
  },
  {
   "cell_type": "code",
   "execution_count": 93,
   "metadata": {},
   "outputs": [
    {
     "data": {
      "text/html": [
       "<div>\n",
       "<style scoped>\n",
       "    .dataframe tbody tr th:only-of-type {\n",
       "        vertical-align: middle;\n",
       "    }\n",
       "\n",
       "    .dataframe tbody tr th {\n",
       "        vertical-align: top;\n",
       "    }\n",
       "\n",
       "    .dataframe thead th {\n",
       "        text-align: right;\n",
       "    }\n",
       "</style>\n",
       "<table border=\"1\" class=\"dataframe\">\n",
       "  <thead>\n",
       "    <tr style=\"text-align: right;\">\n",
       "      <th></th>\n",
       "      <th>hallwaytype</th>\n",
       "      <th>timetosubway</th>\n",
       "      <th>subwaystation</th>\n",
       "      <th>n_facilitiesnearby(etc)</th>\n",
       "      <th>n_facilitiesnearby(publicoffice)</th>\n",
       "      <th>n_schoolnearby(university)</th>\n",
       "      <th>n_parkinglot(basement)</th>\n",
       "      <th>yearbuilt</th>\n",
       "      <th>n_facilitiesinapt</th>\n",
       "      <th>size(sqf)</th>\n",
       "      <th>saleprice</th>\n",
       "    </tr>\n",
       "  </thead>\n",
       "  <tbody>\n",
       "    <tr>\n",
       "      <th>804</th>\n",
       "      <td>corridor</td>\n",
       "      <td>10min~15min</td>\n",
       "      <td>Myung-duk</td>\n",
       "      <td>5.0</td>\n",
       "      <td>7.0</td>\n",
       "      <td>5.0</td>\n",
       "      <td>0.0</td>\n",
       "      <td>1992</td>\n",
       "      <td>3</td>\n",
       "      <td>355</td>\n",
       "      <td>34513</td>\n",
       "    </tr>\n",
       "    <tr>\n",
       "      <th>163</th>\n",
       "      <td>corridor</td>\n",
       "      <td>10min~15min</td>\n",
       "      <td>Myung-duk</td>\n",
       "      <td>5.0</td>\n",
       "      <td>7.0</td>\n",
       "      <td>5.0</td>\n",
       "      <td>0.0</td>\n",
       "      <td>1992</td>\n",
       "      <td>3</td>\n",
       "      <td>355</td>\n",
       "      <td>34513</td>\n",
       "    </tr>\n",
       "    <tr>\n",
       "      <th>647</th>\n",
       "      <td>corridor</td>\n",
       "      <td>5min~10min</td>\n",
       "      <td>no_subway_nearby</td>\n",
       "      <td>1.0</td>\n",
       "      <td>4.0</td>\n",
       "      <td>1.0</td>\n",
       "      <td>218.0</td>\n",
       "      <td>2014</td>\n",
       "      <td>1</td>\n",
       "      <td>135</td>\n",
       "      <td>35398</td>\n",
       "    </tr>\n",
       "    <tr>\n",
       "      <th>2262</th>\n",
       "      <td>corridor</td>\n",
       "      <td>5min~10min</td>\n",
       "      <td>no_subway_nearby</td>\n",
       "      <td>1.0</td>\n",
       "      <td>4.0</td>\n",
       "      <td>1.0</td>\n",
       "      <td>218.0</td>\n",
       "      <td>2014</td>\n",
       "      <td>1</td>\n",
       "      <td>135</td>\n",
       "      <td>35398</td>\n",
       "    </tr>\n",
       "    <tr>\n",
       "      <th>1068</th>\n",
       "      <td>corridor</td>\n",
       "      <td>10min~15min</td>\n",
       "      <td>Myung-duk</td>\n",
       "      <td>5.0</td>\n",
       "      <td>7.0</td>\n",
       "      <td>5.0</td>\n",
       "      <td>0.0</td>\n",
       "      <td>1992</td>\n",
       "      <td>3</td>\n",
       "      <td>355</td>\n",
       "      <td>35398</td>\n",
       "    </tr>\n",
       "    <tr>\n",
       "      <th>1210</th>\n",
       "      <td>corridor</td>\n",
       "      <td>10min~15min</td>\n",
       "      <td>Myung-duk</td>\n",
       "      <td>5.0</td>\n",
       "      <td>7.0</td>\n",
       "      <td>5.0</td>\n",
       "      <td>0.0</td>\n",
       "      <td>1992</td>\n",
       "      <td>3</td>\n",
       "      <td>355</td>\n",
       "      <td>35398</td>\n",
       "    </tr>\n",
       "    <tr>\n",
       "      <th>898</th>\n",
       "      <td>corridor</td>\n",
       "      <td>10min~15min</td>\n",
       "      <td>Myung-duk</td>\n",
       "      <td>5.0</td>\n",
       "      <td>7.0</td>\n",
       "      <td>5.0</td>\n",
       "      <td>0.0</td>\n",
       "      <td>1992</td>\n",
       "      <td>3</td>\n",
       "      <td>355</td>\n",
       "      <td>35840</td>\n",
       "    </tr>\n",
       "    <tr>\n",
       "      <th>3961</th>\n",
       "      <td>corridor</td>\n",
       "      <td>10min~15min</td>\n",
       "      <td>Myung-duk</td>\n",
       "      <td>5.0</td>\n",
       "      <td>7.0</td>\n",
       "      <td>5.0</td>\n",
       "      <td>0.0</td>\n",
       "      <td>1992</td>\n",
       "      <td>3</td>\n",
       "      <td>355</td>\n",
       "      <td>35840</td>\n",
       "    </tr>\n",
       "    <tr>\n",
       "      <th>3628</th>\n",
       "      <td>corridor</td>\n",
       "      <td>10min~15min</td>\n",
       "      <td>Myung-duk</td>\n",
       "      <td>5.0</td>\n",
       "      <td>7.0</td>\n",
       "      <td>5.0</td>\n",
       "      <td>0.0</td>\n",
       "      <td>1992</td>\n",
       "      <td>3</td>\n",
       "      <td>355</td>\n",
       "      <td>36283</td>\n",
       "    </tr>\n",
       "    <tr>\n",
       "      <th>499</th>\n",
       "      <td>corridor</td>\n",
       "      <td>10min~15min</td>\n",
       "      <td>Myung-duk</td>\n",
       "      <td>5.0</td>\n",
       "      <td>7.0</td>\n",
       "      <td>5.0</td>\n",
       "      <td>0.0</td>\n",
       "      <td>1992</td>\n",
       "      <td>3</td>\n",
       "      <td>355</td>\n",
       "      <td>36283</td>\n",
       "    </tr>\n",
       "    <tr>\n",
       "      <th>2876</th>\n",
       "      <td>corridor</td>\n",
       "      <td>10min~15min</td>\n",
       "      <td>Myung-duk</td>\n",
       "      <td>5.0</td>\n",
       "      <td>7.0</td>\n",
       "      <td>5.0</td>\n",
       "      <td>0.0</td>\n",
       "      <td>1992</td>\n",
       "      <td>3</td>\n",
       "      <td>355</td>\n",
       "      <td>36283</td>\n",
       "    </tr>\n",
       "    <tr>\n",
       "      <th>737</th>\n",
       "      <td>corridor</td>\n",
       "      <td>10min~15min</td>\n",
       "      <td>Myung-duk</td>\n",
       "      <td>5.0</td>\n",
       "      <td>7.0</td>\n",
       "      <td>5.0</td>\n",
       "      <td>0.0</td>\n",
       "      <td>1992</td>\n",
       "      <td>3</td>\n",
       "      <td>355</td>\n",
       "      <td>36283</td>\n",
       "    </tr>\n",
       "    <tr>\n",
       "      <th>835</th>\n",
       "      <td>corridor</td>\n",
       "      <td>10min~15min</td>\n",
       "      <td>Myung-duk</td>\n",
       "      <td>5.0</td>\n",
       "      <td>7.0</td>\n",
       "      <td>5.0</td>\n",
       "      <td>0.0</td>\n",
       "      <td>1992</td>\n",
       "      <td>3</td>\n",
       "      <td>355</td>\n",
       "      <td>36283</td>\n",
       "    </tr>\n",
       "    <tr>\n",
       "      <th>4086</th>\n",
       "      <td>corridor</td>\n",
       "      <td>10min~15min</td>\n",
       "      <td>Myung-duk</td>\n",
       "      <td>5.0</td>\n",
       "      <td>7.0</td>\n",
       "      <td>5.0</td>\n",
       "      <td>0.0</td>\n",
       "      <td>1992</td>\n",
       "      <td>3</td>\n",
       "      <td>355</td>\n",
       "      <td>37168</td>\n",
       "    </tr>\n",
       "    <tr>\n",
       "      <th>3043</th>\n",
       "      <td>corridor</td>\n",
       "      <td>10min~15min</td>\n",
       "      <td>Myung-duk</td>\n",
       "      <td>5.0</td>\n",
       "      <td>7.0</td>\n",
       "      <td>5.0</td>\n",
       "      <td>0.0</td>\n",
       "      <td>1992</td>\n",
       "      <td>3</td>\n",
       "      <td>355</td>\n",
       "      <td>37168</td>\n",
       "    </tr>\n",
       "    <tr>\n",
       "      <th>3458</th>\n",
       "      <td>corridor</td>\n",
       "      <td>10min~15min</td>\n",
       "      <td>Myung-duk</td>\n",
       "      <td>5.0</td>\n",
       "      <td>7.0</td>\n",
       "      <td>5.0</td>\n",
       "      <td>0.0</td>\n",
       "      <td>1992</td>\n",
       "      <td>3</td>\n",
       "      <td>355</td>\n",
       "      <td>37168</td>\n",
       "    </tr>\n",
       "    <tr>\n",
       "      <th>2170</th>\n",
       "      <td>corridor</td>\n",
       "      <td>10min~15min</td>\n",
       "      <td>Myung-duk</td>\n",
       "      <td>5.0</td>\n",
       "      <td>7.0</td>\n",
       "      <td>5.0</td>\n",
       "      <td>0.0</td>\n",
       "      <td>1992</td>\n",
       "      <td>3</td>\n",
       "      <td>355</td>\n",
       "      <td>37168</td>\n",
       "    </tr>\n",
       "    <tr>\n",
       "      <th>1306</th>\n",
       "      <td>corridor</td>\n",
       "      <td>10min~15min</td>\n",
       "      <td>Myung-duk</td>\n",
       "      <td>5.0</td>\n",
       "      <td>7.0</td>\n",
       "      <td>5.0</td>\n",
       "      <td>0.0</td>\n",
       "      <td>1992</td>\n",
       "      <td>3</td>\n",
       "      <td>355</td>\n",
       "      <td>37168</td>\n",
       "    </tr>\n",
       "    <tr>\n",
       "      <th>710</th>\n",
       "      <td>corridor</td>\n",
       "      <td>10min~15min</td>\n",
       "      <td>Myung-duk</td>\n",
       "      <td>5.0</td>\n",
       "      <td>7.0</td>\n",
       "      <td>5.0</td>\n",
       "      <td>0.0</td>\n",
       "      <td>1992</td>\n",
       "      <td>3</td>\n",
       "      <td>355</td>\n",
       "      <td>38053</td>\n",
       "    </tr>\n",
       "    <tr>\n",
       "      <th>2323</th>\n",
       "      <td>corridor</td>\n",
       "      <td>10min~15min</td>\n",
       "      <td>Myung-duk</td>\n",
       "      <td>5.0</td>\n",
       "      <td>7.0</td>\n",
       "      <td>5.0</td>\n",
       "      <td>0.0</td>\n",
       "      <td>1992</td>\n",
       "      <td>3</td>\n",
       "      <td>355</td>\n",
       "      <td>38053</td>\n",
       "    </tr>\n",
       "  </tbody>\n",
       "</table>\n",
       "</div>"
      ],
      "text/plain": [
       "     hallwaytype timetosubway     subwaystation  n_facilitiesnearby(etc)  \\\n",
       "804     corridor  10min~15min         Myung-duk                      5.0   \n",
       "163     corridor  10min~15min         Myung-duk                      5.0   \n",
       "647     corridor   5min~10min  no_subway_nearby                      1.0   \n",
       "2262    corridor   5min~10min  no_subway_nearby                      1.0   \n",
       "1068    corridor  10min~15min         Myung-duk                      5.0   \n",
       "1210    corridor  10min~15min         Myung-duk                      5.0   \n",
       "898     corridor  10min~15min         Myung-duk                      5.0   \n",
       "3961    corridor  10min~15min         Myung-duk                      5.0   \n",
       "3628    corridor  10min~15min         Myung-duk                      5.0   \n",
       "499     corridor  10min~15min         Myung-duk                      5.0   \n",
       "2876    corridor  10min~15min         Myung-duk                      5.0   \n",
       "737     corridor  10min~15min         Myung-duk                      5.0   \n",
       "835     corridor  10min~15min         Myung-duk                      5.0   \n",
       "4086    corridor  10min~15min         Myung-duk                      5.0   \n",
       "3043    corridor  10min~15min         Myung-duk                      5.0   \n",
       "3458    corridor  10min~15min         Myung-duk                      5.0   \n",
       "2170    corridor  10min~15min         Myung-duk                      5.0   \n",
       "1306    corridor  10min~15min         Myung-duk                      5.0   \n",
       "710     corridor  10min~15min         Myung-duk                      5.0   \n",
       "2323    corridor  10min~15min         Myung-duk                      5.0   \n",
       "\n",
       "      n_facilitiesnearby(publicoffice)  n_schoolnearby(university)  \\\n",
       "804                                7.0                         5.0   \n",
       "163                                7.0                         5.0   \n",
       "647                                4.0                         1.0   \n",
       "2262                               4.0                         1.0   \n",
       "1068                               7.0                         5.0   \n",
       "1210                               7.0                         5.0   \n",
       "898                                7.0                         5.0   \n",
       "3961                               7.0                         5.0   \n",
       "3628                               7.0                         5.0   \n",
       "499                                7.0                         5.0   \n",
       "2876                               7.0                         5.0   \n",
       "737                                7.0                         5.0   \n",
       "835                                7.0                         5.0   \n",
       "4086                               7.0                         5.0   \n",
       "3043                               7.0                         5.0   \n",
       "3458                               7.0                         5.0   \n",
       "2170                               7.0                         5.0   \n",
       "1306                               7.0                         5.0   \n",
       "710                                7.0                         5.0   \n",
       "2323                               7.0                         5.0   \n",
       "\n",
       "      n_parkinglot(basement)  yearbuilt  n_facilitiesinapt  size(sqf)  \\\n",
       "804                      0.0       1992                  3        355   \n",
       "163                      0.0       1992                  3        355   \n",
       "647                    218.0       2014                  1        135   \n",
       "2262                   218.0       2014                  1        135   \n",
       "1068                     0.0       1992                  3        355   \n",
       "1210                     0.0       1992                  3        355   \n",
       "898                      0.0       1992                  3        355   \n",
       "3961                     0.0       1992                  3        355   \n",
       "3628                     0.0       1992                  3        355   \n",
       "499                      0.0       1992                  3        355   \n",
       "2876                     0.0       1992                  3        355   \n",
       "737                      0.0       1992                  3        355   \n",
       "835                      0.0       1992                  3        355   \n",
       "4086                     0.0       1992                  3        355   \n",
       "3043                     0.0       1992                  3        355   \n",
       "3458                     0.0       1992                  3        355   \n",
       "2170                     0.0       1992                  3        355   \n",
       "1306                     0.0       1992                  3        355   \n",
       "710                      0.0       1992                  3        355   \n",
       "2323                     0.0       1992                  3        355   \n",
       "\n",
       "      saleprice  \n",
       "804       34513  \n",
       "163       34513  \n",
       "647       35398  \n",
       "2262      35398  \n",
       "1068      35398  \n",
       "1210      35398  \n",
       "898       35840  \n",
       "3961      35840  \n",
       "3628      36283  \n",
       "499       36283  \n",
       "2876      36283  \n",
       "737       36283  \n",
       "835       36283  \n",
       "4086      37168  \n",
       "3043      37168  \n",
       "3458      37168  \n",
       "2170      37168  \n",
       "1306      37168  \n",
       "710       38053  \n",
       "2323      38053  "
      ]
     },
     "execution_count": 93,
     "metadata": {},
     "output_type": "execute_result"
    }
   ],
   "source": [
    "duplicated_groups = df.groupby(list(df.columns)).filter(lambda x: len(x) > 1)\n",
    "\n",
    "# Menampilkan baris-baris yang dianggap duplikat\n",
    "duplicated_groups.sort_values(by='saleprice').head(20)"
   ]
  },
  {
   "attachments": {},
   "cell_type": "markdown",
   "metadata": {},
   "source": [
    "Jika dilihat dari algoritma diatas, terdapat banyak sekali data duplikat. Sekitar setengah dari total data yang ada di dalam dataset dianggap sebagai duplikat."
   ]
  },
  {
   "attachments": {},
   "cell_type": "markdown",
   "metadata": {},
   "source": [
    "Lalu, jika dilihat lebih dalam lagi, dikarenakan memang data tersebut adalah data yang diambil dari apartemen yang ada di daerah Daegu, dan memang unit dalam satu apartemen jumlahnya banyak, maka hampir semua datanya mirip atau sama. Hal tersebut juga dapat menyebabkan adanya harga unit apartemen yang sama jika unit tersebut memang ada di apartemen yang sama. Kemudian, kemungkinan harga yang sama juga dikarenakan memang semua kriterianya sama dan orang yang mempunyai apartemen pun dapat menjualnya dengan harga yang sama.\n",
    "\n",
    "Maka dari itu, data yang dianggap duplikat dibiarkan saja dan akan digunakan dalam model."
   ]
  },
  {
   "attachments": {},
   "cell_type": "markdown",
   "metadata": {},
   "source": [
    "Outlier"
   ]
  },
  {
   "cell_type": "code",
   "execution_count": 94,
   "metadata": {},
   "outputs": [
    {
     "name": "stdout",
     "output_type": "stream",
     "text": [
      "IQR: 5.0\n"
     ]
    }
   ],
   "source": [
    "# outlier pada facilities(etc)\n",
    "Q1 = df['n_facilitiesnearby(etc)'].quantile(0.25)\n",
    "Q3 = df['n_facilitiesnearby(etc)'].quantile(0.75)\n",
    "IQR = Q3 - Q1\n",
    "print(f'IQR: {IQR}')"
   ]
  },
  {
   "cell_type": "code",
   "execution_count": 95,
   "metadata": {},
   "outputs": [
    {
     "name": "stdout",
     "output_type": "stream",
     "text": [
      "Upper outlier: 12.5\n",
      "Lower outlier: -7.5\n",
      "jumlah upper outlier: 0 \n",
      "jumlah lower outlier: 0\n"
     ]
    }
   ],
   "source": [
    "# outlier Roomservice\n",
    "upper = Q3 + (1.5 * IQR)\n",
    "print(f'Upper outlier: {upper}')\n",
    "lower = Q1 - (1.5 * IQR)\n",
    "print(f'Lower outlier: {lower}')\n",
    "\n",
    "df_upper = df[df['n_facilitiesnearby(etc)'] > upper]\n",
    "upper_len = len(df_upper)\n",
    "\n",
    "df_lower = df[df['n_facilitiesnearby(etc)'] < lower]\n",
    "lower_len = len(df_lower)\n",
    "\n",
    "print(f'jumlah upper outlier: {upper_len} \\njumlah lower outlier: {lower_len}')"
   ]
  },
  {
   "cell_type": "code",
   "execution_count": 96,
   "metadata": {},
   "outputs": [
    {
     "name": "stdout",
     "output_type": "stream",
     "text": [
      "IQR: 2.0\n"
     ]
    }
   ],
   "source": [
    "# outlier pada facilities(etc)\n",
    "Q1 = df['n_facilitiesnearby(publicoffice)'].quantile(0.25)\n",
    "Q3 = df['n_facilitiesnearby(publicoffice)'].quantile(0.75)\n",
    "IQR = Q3 - Q1\n",
    "print(f'IQR: {IQR}')"
   ]
  },
  {
   "cell_type": "code",
   "execution_count": 97,
   "metadata": {},
   "outputs": [
    {
     "name": "stdout",
     "output_type": "stream",
     "text": [
      "Upper outlier: 8.0\n",
      "Lower outlier: 0.0\n",
      "jumlah upper outlier: 0 \n",
      "jumlah lower outlier: 0\n"
     ]
    }
   ],
   "source": [
    "# outlier Roomservice\n",
    "upper = Q3 + (1.5 * IQR)\n",
    "print(f'Upper outlier: {upper}')\n",
    "lower = Q1 - (1.5 * IQR)\n",
    "print(f'Lower outlier: {lower}')\n",
    "\n",
    "df_upper = df[df['n_facilitiesnearby(publicoffice)'] > upper]\n",
    "upper_len = len(df_upper)\n",
    "\n",
    "df_lower = df[df['n_facilitiesnearby(publicoffice)'] < lower]\n",
    "lower_len = len(df_lower)\n",
    "\n",
    "print(f'jumlah upper outlier: {upper_len} \\njumlah lower outlier: {lower_len}')"
   ]
  },
  {
   "cell_type": "code",
   "execution_count": 98,
   "metadata": {},
   "outputs": [
    {
     "name": "stdout",
     "output_type": "stream",
     "text": [
      "IQR: 2.0\n"
     ]
    }
   ],
   "source": [
    "# outlier pada facilities(etc)\n",
    "Q1 = df['n_schoolnearby(university)'].quantile(0.25)\n",
    "Q3 = df['n_schoolnearby(university)'].quantile(0.75)\n",
    "IQR = Q3 - Q1\n",
    "print(f'IQR: {IQR}')"
   ]
  },
  {
   "cell_type": "code",
   "execution_count": 99,
   "metadata": {},
   "outputs": [
    {
     "name": "stdout",
     "output_type": "stream",
     "text": [
      "Upper outlier: 7.0\n",
      "Lower outlier: -1.0\n",
      "jumlah upper outlier: 0 \n",
      "jumlah lower outlier: 0\n"
     ]
    }
   ],
   "source": [
    "# outlier Roomservice\n",
    "upper = Q3 + (1.5 * IQR)\n",
    "print(f'Upper outlier: {upper}')\n",
    "lower = Q1 - (1.5 * IQR)\n",
    "print(f'Lower outlier: {lower}')\n",
    "\n",
    "df_upper = df[df['n_schoolnearby(university)'] > upper]\n",
    "upper_len = len(df_upper)\n",
    "\n",
    "df_lower = df[df['n_schoolnearby(university)'] < lower]\n",
    "lower_len = len(df_lower)\n",
    "\n",
    "print(f'jumlah upper outlier: {upper_len} \\njumlah lower outlier: {lower_len}')"
   ]
  },
  {
   "cell_type": "code",
   "execution_count": 100,
   "metadata": {},
   "outputs": [
    {
     "name": "stdout",
     "output_type": "stream",
     "text": [
      "IQR: 614.0\n"
     ]
    }
   ],
   "source": [
    "# outlier pada facilities(etc)\n",
    "Q1 = df['n_parkinglot(basement)'].quantile(0.25)\n",
    "Q3 = df['n_parkinglot(basement)'].quantile(0.75)\n",
    "IQR = Q3 - Q1\n",
    "print(f'IQR: {IQR}')"
   ]
  },
  {
   "cell_type": "code",
   "execution_count": 101,
   "metadata": {},
   "outputs": [
    {
     "name": "stdout",
     "output_type": "stream",
     "text": [
      "Upper outlier: 1719.0\n",
      "Lower outlier: -737.0\n",
      "jumlah upper outlier: 0 \n",
      "jumlah lower outlier: 0\n"
     ]
    }
   ],
   "source": [
    "# outlier Roomservice\n",
    "upper = Q3 + (1.5 * IQR)\n",
    "print(f'Upper outlier: {upper}')\n",
    "lower = Q1 - (1.5 * IQR)\n",
    "print(f'Lower outlier: {lower}')\n",
    "\n",
    "df_upper = df[df['n_parkinglot(basement)'] > upper]\n",
    "upper_len = len(df_upper)\n",
    "\n",
    "df_lower = df[df['n_parkinglot(basement)'] < lower]\n",
    "lower_len = len(df_lower)\n",
    "\n",
    "print(f'jumlah upper outlier: {upper_len} \\njumlah lower outlier: {lower_len}')"
   ]
  },
  {
   "cell_type": "code",
   "execution_count": 102,
   "metadata": {},
   "outputs": [
    {
     "name": "stdout",
     "output_type": "stream",
     "text": [
      "IQR: 15.0\n"
     ]
    }
   ],
   "source": [
    "# outlier pada facilities(etc)\n",
    "Q1 = df['yearbuilt'].quantile(0.25)\n",
    "Q3 = df['yearbuilt'].quantile(0.75)\n",
    "IQR = Q3 - Q1\n",
    "print(f'IQR: {IQR}')"
   ]
  },
  {
   "cell_type": "code",
   "execution_count": 103,
   "metadata": {},
   "outputs": [
    {
     "name": "stdout",
     "output_type": "stream",
     "text": [
      "Upper outlier: 2030.5\n",
      "Lower outlier: 1970.5\n",
      "jumlah upper outlier: 0 \n",
      "jumlah lower outlier: 0\n"
     ]
    }
   ],
   "source": [
    "# outlier Roomservice\n",
    "upper = Q3 + (1.5 * IQR)\n",
    "print(f'Upper outlier: {upper}')\n",
    "lower = Q1 - (1.5 * IQR)\n",
    "print(f'Lower outlier: {lower}')\n",
    "\n",
    "df_upper = df[df['yearbuilt'] > upper]\n",
    "upper_len = len(df_upper)\n",
    "\n",
    "df_lower = df[df['yearbuilt'] < lower]\n",
    "lower_len = len(df_lower)\n",
    "\n",
    "print(f'jumlah upper outlier: {upper_len} \\njumlah lower outlier: {lower_len}')"
   ]
  },
  {
   "cell_type": "code",
   "execution_count": 104,
   "metadata": {},
   "outputs": [
    {
     "name": "stdout",
     "output_type": "stream",
     "text": [
      "IQR: 3.0\n"
     ]
    }
   ],
   "source": [
    "# outlier pada facilities(etc)\n",
    "Q1 = df['n_facilitiesinapt'].quantile(0.25)\n",
    "Q3 = df['n_facilitiesinapt'].quantile(0.75)\n",
    "IQR = Q3 - Q1\n",
    "print(f'IQR: {IQR}')"
   ]
  },
  {
   "cell_type": "code",
   "execution_count": 105,
   "metadata": {},
   "outputs": [
    {
     "name": "stdout",
     "output_type": "stream",
     "text": [
      "Upper outlier: 11.5\n",
      "Lower outlier: -0.5\n",
      "jumlah upper outlier: 0 \n",
      "jumlah lower outlier: 0\n"
     ]
    }
   ],
   "source": [
    "# outlier Roomservice\n",
    "upper = Q3 + (1.5 * IQR)\n",
    "print(f'Upper outlier: {upper}')\n",
    "lower = Q1 - (1.5 * IQR)\n",
    "print(f'Lower outlier: {lower}')\n",
    "\n",
    "df_upper = df[df['n_facilitiesinapt'] > upper]\n",
    "upper_len = len(df_upper)\n",
    "\n",
    "df_lower = df[df['n_facilitiesinapt'] < lower]\n",
    "lower_len = len(df_lower)\n",
    "\n",
    "print(f'jumlah upper outlier: {upper_len} \\njumlah lower outlier: {lower_len}')"
   ]
  },
  {
   "cell_type": "code",
   "execution_count": 106,
   "metadata": {},
   "outputs": [
    {
     "name": "stdout",
     "output_type": "stream",
     "text": [
      "IQR: 505.0\n"
     ]
    }
   ],
   "source": [
    "# outlier pada size(sqf)\n",
    "Q1 = df['size(sqf)'].quantile(0.25)\n",
    "Q3 = df['size(sqf)'].quantile(0.75)\n",
    "IQR = Q3 - Q1\n",
    "print(f'IQR: {IQR}')"
   ]
  },
  {
   "cell_type": "code",
   "execution_count": 107,
   "metadata": {},
   "outputs": [
    {
     "name": "stdout",
     "output_type": "stream",
     "text": [
      "Upper outlier: 1906.5\n",
      "Lower outlier: -113.5\n",
      "jumlah upper outlier: 98 \n",
      "jumlah lower outlier: 0\n"
     ]
    }
   ],
   "source": [
    "# outlier Roomservice\n",
    "upper = Q3 + (1.5 * IQR)\n",
    "print(f'Upper outlier: {upper}')\n",
    "lower = Q1 - (1.5 * IQR)\n",
    "print(f'Lower outlier: {lower}')\n",
    "\n",
    "df_upper = df[df['size(sqf)'] > upper]\n",
    "upper_len = len(df_upper)\n",
    "\n",
    "df_lower = df[df['size(sqf)'] < lower]\n",
    "lower_len = len(df_lower)\n",
    "\n",
    "print(f'jumlah upper outlier: {upper_len} \\njumlah lower outlier: {lower_len}')"
   ]
  },
  {
   "cell_type": "code",
   "execution_count": 108,
   "metadata": {},
   "outputs": [
    {
     "data": {
      "image/png": "[encoded data removed]",
      "text/plain": [
       "<Figure size 640x480 with 1 Axes>"
      ]
     },
     "metadata": {},
     "output_type": "display_data"
    }
   ],
   "source": [
    "plt.title('Outlier Size(sqf)')\n",
    "sns.boxplot(df['size(sqf)'])\n",
    "plt.show()"
   ]
  },
  {
   "cell_type": "code",
   "execution_count": 109,
   "metadata": {},
   "outputs": [
    {
     "name": "stdout",
     "output_type": "stream",
     "text": [
      "IQR: 146398.0\n"
     ]
    }
   ],
   "source": [
    "# outlier pada facilities(etc)\n",
    "Q1 = df['saleprice'].quantile(0.25)\n",
    "Q3 = df['saleprice'].quantile(0.75)\n",
    "IQR = Q3 - Q1\n",
    "print(f'IQR: {IQR}')"
   ]
  },
  {
   "cell_type": "code",
   "execution_count": 110,
   "metadata": {},
   "outputs": [
    {
     "name": "stdout",
     "output_type": "stream",
     "text": [
      "Upper outlier: 510747.0\n",
      "Lower outlier: -74845.0\n",
      "jumlah upper outlier: 27 \n",
      "jumlah lower outlier: 0\n"
     ]
    }
   ],
   "source": [
    "# outlier Roomservice\n",
    "upper = Q3 + (1.5 * IQR)\n",
    "print(f'Upper outlier: {upper}')\n",
    "lower = Q1 - (1.5 * IQR)\n",
    "print(f'Lower outlier: {lower}')\n",
    "\n",
    "df_upper = df[df['saleprice'] > upper]\n",
    "upper_len = len(df_upper)\n",
    "\n",
    "df_lower = df[df['saleprice'] < lower]\n",
    "lower_len = len(df_lower)\n",
    "\n",
    "print(f'jumlah upper outlier: {upper_len} \\njumlah lower outlier: {lower_len}')"
   ]
  },
  {
   "cell_type": "code",
   "execution_count": 111,
   "metadata": {},
   "outputs": [
    {
     "data": {
      "image/png": "[encoded data removed]",
      "text/plain": [
       "<Figure size 640x480 with 1 Axes>"
      ]
     },
     "metadata": {},
     "output_type": "display_data"
    }
   ],
   "source": [
    "plt.title('Outlier SalePrice')\n",
    "sns.boxplot(df['saleprice'])\n",
    "plt.show()"
   ]
  },
  {
   "attachments": {},
   "cell_type": "markdown",
   "metadata": {},
   "source": [
    "Terdapat outlier sebesar 2.3% pada kolom size(sqf) dan 0.6% pada kolom salesprice. Outlier mungkin terjadi dikarenakan adanya apartemen yang memiliki fasilitas dan harga yang memang jauh lebih banyak dan mahal dibandingkan dengan unit aprtemen lainnya. Oleh karena itu, outlier disini tidak dihapus dan akan digunakan dalam pembuatan model. Nantinya fitur yang mempunyai outlier akan diproses dalam feature engineering dan digunakan robust scalling."
   ]
  },
  {
   "cell_type": "code",
   "execution_count": 112,
   "metadata": {},
   "outputs": [
    {
     "data": {
      "image/png": "[encoded data removed]",
      "text/plain": [
       "<Figure size 640x480 with 1 Axes>"
      ]
     },
     "metadata": {},
     "output_type": "display_data"
    },
    {
     "data": {
      "text/plain": [
       "0-5min                1953\n",
       "5min~10min             787\n",
       "15min~20min            629\n",
       "10min~15min            583\n",
       "no_bus_stop_nearby     171\n",
       "Name: timetosubway, dtype: int64"
      ]
     },
     "execution_count": 112,
     "metadata": {},
     "output_type": "execute_result"
    }
   ],
   "source": [
    "sns.countplot(x=df['timetosubway'])\n",
    "plt.xlabel('Time to Subway')\n",
    "plt.ylabel('Count')\n",
    "plt.title('Distribution of Time to Subway')\n",
    "plt.show()\n",
    "df['timetosubway'].value_counts()"
   ]
  },
  {
   "cell_type": "code",
   "execution_count": 113,
   "metadata": {},
   "outputs": [
    {
     "data": {
      "image/png": "[encoded data removed]",
      "text/plain": [
       "<Figure size 640x480 with 1 Axes>"
      ]
     },
     "metadata": {},
     "output_type": "display_data"
    },
    {
     "data": {
      "text/plain": [
       "terraced    2528\n",
       "mixed       1131\n",
       "corridor     464\n",
       "Name: hallwaytype, dtype: int64"
      ]
     },
     "execution_count": 113,
     "metadata": {},
     "output_type": "execute_result"
    }
   ],
   "source": [
    "sns.countplot(x=df['hallwaytype'])\n",
    "plt.xlabel('Time to Subway')\n",
    "plt.ylabel('Count')\n",
    "plt.title('Distribution of Hallway Type')\n",
    "plt.show()\n",
    "df['hallwaytype'].value_counts()"
   ]
  },
  {
   "cell_type": "code",
   "execution_count": 114,
   "metadata": {},
   "outputs": [
    {
     "data": {
      "image/png": "[encoded data removed]",
      "text/plain": [
       "<Figure size 2000x600 with 1 Axes>"
      ]
     },
     "metadata": {},
     "output_type": "display_data"
    },
    {
     "data": {
      "text/plain": [
       "Kyungbuk_uni_hospital    1152\n",
       "Myung-duk                1044\n",
       "Banwoldang                529\n",
       "Bangoge                   502\n",
       "Sin-nam                   467\n",
       "no_subway_nearby          290\n",
       "Chil-sung-market           74\n",
       "Daegu                      65\n",
       "Name: subwaystation, dtype: int64"
      ]
     },
     "execution_count": 114,
     "metadata": {},
     "output_type": "execute_result"
    }
   ],
   "source": [
    "plt.figure(figsize=(20, 6))\n",
    "sns.countplot(x=df['subwaystation'])\n",
    "plt.xlabel('Time to Subway')\n",
    "plt.ylabel('Count')\n",
    "plt.title('Distribution of Subway Station')\n",
    "plt.show()\n",
    "df['subwaystation'].value_counts()"
   ]
  },
  {
   "attachments": {},
   "cell_type": "markdown",
   "metadata": {},
   "source": [
    "## Modeling"
   ]
  },
  {
   "attachments": {},
   "cell_type": "markdown",
   "metadata": {},
   "source": [
    "**Feature Engineering**"
   ]
  },
  {
   "cell_type": "code",
   "execution_count": 115,
   "metadata": {},
   "outputs": [],
   "source": [
    "from sklearn.model_selection import train_test_split, cross_val_score, RandomizedSearchCV, GridSearchCV, KFold, cross_validate, cross_val_predict\n",
    "\n",
    "import category_encoders as ce\n",
    "from sklearn.preprocessing import OneHotEncoder, RobustScaler, LabelEncoder, OrdinalEncoder, MinMaxScaler\n",
    "from sklearn.compose import ColumnTransformer\n",
    "from sklearn.pipeline import Pipeline\n",
    "from sklearn.feature_selection import SelectKBest\n",
    "\n",
    "from sklearn.linear_model import LinearRegression\n",
    "from sklearn.tree import DecisionTreeRegressor\n",
    "from sklearn.neighbors import KNeighborsRegressor\n",
    "from sklearn.preprocessing import PolynomialFeatures\n",
    "from sklearn.tree import DecisionTreeRegressor\n",
    "from sklearn.ensemble import RandomForestRegressor, GradientBoostingRegressor, AdaBoostRegressor, BaggingRegressor\n",
    "from sklearn.compose import TransformedTargetRegressor\n",
    "from xgboost import XGBRegressor\n",
    "from sklearn.svm import SVR\n",
    "from lightgbm import LGBMRegressor\n",
    "\n",
    "\n",
    "\n",
    "from sklearn.preprocessing import StandardScaler\n",
    "\n",
    "from sklearn.metrics import mean_squared_error, r2_score, mean_absolute_error, make_scorer, mean_absolute_percentage_error"
   ]
  },
  {
   "attachments": {},
   "cell_type": "markdown",
   "metadata": {},
   "source": [
    "Splitting data"
   ]
  },
  {
   "cell_type": "code",
   "execution_count": 116,
   "metadata": {},
   "outputs": [
    {
     "name": "stdout",
     "output_type": "stream",
     "text": [
      "(4123, 10)\n",
      "(4123,)\n"
     ]
    }
   ],
   "source": [
    "# Split features and target\n",
    "X = df.drop(columns=['saleprice']) # feature\n",
    "y = df['saleprice'] # target\n",
    "\n",
    "print(X.shape)\n",
    "print(y.shape)"
   ]
  },
  {
   "cell_type": "code",
   "execution_count": 117,
   "metadata": {},
   "outputs": [],
   "source": [
    "X_train, X_test, y_train, y_test = train_test_split(X, y, test_size=0.2, random_state=42)"
   ]
  },
  {
   "attachments": {},
   "cell_type": "markdown",
   "metadata": {},
   "source": [
    "Encoding and scalling"
   ]
  },
  {
   "cell_type": "code",
   "execution_count": 118,
   "metadata": {},
   "outputs": [
    {
     "data": {
      "text/html": [
       "<style>#sk-container-id-4 {color: black;background-color: white;}#sk-container-id-4 pre{padding: 0;}#sk-container-id-4 div.sk-toggleable {background-color: white;}#sk-container-id-4 label.sk-toggleable__label {cursor: pointer;display: block;width: 100%;margin-bottom: 0;padding: 0.3em;box-sizing: border-box;text-align: center;}#sk-container-id-4 label.sk-toggleable__label-arrow:before {content: \"▸\";float: left;margin-right: 0.25em;color: #696969;}#sk-container-id-4 label.sk-toggleable__label-arrow:hover:before {color: black;}#sk-container-id-4 div.sk-estimator:hover label.sk-toggleable__label-arrow:before {color: black;}#sk-container-id-4 div.sk-toggleable__content {max-height: 0;max-width: 0;overflow: hidden;text-align: left;background-color: #f0f8ff;}#sk-container-id-4 div.sk-toggleable__content pre {margin: 0.2em;color: black;border-radius: 0.25em;background-color: #f0f8ff;}#sk-container-id-4 input.sk-toggleable__control:checked~div.sk-toggleable__content {max-height: 200px;max-width: 100%;overflow: auto;}#sk-container-id-4 input.sk-toggleable__control:checked~label.sk-toggleable__label-arrow:before {content: \"▾\";}#sk-container-id-4 div.sk-estimator input.sk-toggleable__control:checked~label.sk-toggleable__label {background-color: #d4ebff;}#sk-container-id-4 div.sk-label input.sk-toggleable__control:checked~label.sk-toggleable__label {background-color: #d4ebff;}#sk-container-id-4 input.sk-hidden--visually {border: 0;clip: rect(1px 1px 1px 1px);clip: rect(1px, 1px, 1px, 1px);height: 1px;margin: -1px;overflow: hidden;padding: 0;position: absolute;width: 1px;}#sk-container-id-4 div.sk-estimator {font-family: monospace;background-color: #f0f8ff;border: 1px dotted black;border-radius: 0.25em;box-sizing: border-box;margin-bottom: 0.5em;}#sk-container-id-4 div.sk-estimator:hover {background-color: #d4ebff;}#sk-container-id-4 div.sk-parallel-item::after {content: \"\";width: 100%;border-bottom: 1px solid gray;flex-grow: 1;}#sk-container-id-4 div.sk-label:hover label.sk-toggleable__label {background-color: #d4ebff;}#sk-container-id-4 div.sk-serial::before {content: \"\";position: absolute;border-left: 1px solid gray;box-sizing: border-box;top: 0;bottom: 0;left: 50%;z-index: 0;}#sk-container-id-4 div.sk-serial {display: flex;flex-direction: column;align-items: center;background-color: white;padding-right: 0.2em;padding-left: 0.2em;position: relative;}#sk-container-id-4 div.sk-item {position: relative;z-index: 1;}#sk-container-id-4 div.sk-parallel {display: flex;align-items: stretch;justify-content: center;background-color: white;position: relative;}#sk-container-id-4 div.sk-item::before, #sk-container-id-4 div.sk-parallel-item::before {content: \"\";position: absolute;border-left: 1px solid gray;box-sizing: border-box;top: 0;bottom: 0;left: 50%;z-index: -1;}#sk-container-id-4 div.sk-parallel-item {display: flex;flex-direction: column;z-index: 1;position: relative;background-color: white;}#sk-container-id-4 div.sk-parallel-item:first-child::after {align-self: flex-end;width: 50%;}#sk-container-id-4 div.sk-parallel-item:last-child::after {align-self: flex-start;width: 50%;}#sk-container-id-4 div.sk-parallel-item:only-child::after {width: 0;}#sk-container-id-4 div.sk-dashed-wrapped {border: 1px dashed gray;margin: 0 0.4em 0.5em 0.4em;box-sizing: border-box;padding-bottom: 0.4em;background-color: white;}#sk-container-id-4 div.sk-label label {font-family: monospace;font-weight: bold;display: inline-block;line-height: 1.2em;}#sk-container-id-4 div.sk-label-container {text-align: center;}#sk-container-id-4 div.sk-container {/* jupyter's `normalize.less` sets `[hidden] { display: none; }` but bootstrap.min.css set `[hidden] { display: none !important; }` so we also need the `!important` here to be able to override the default hidden behavior on the sphinx rendered scikit-learn.org. See: https://github.com/scikit-learn/scikit-learn/issues/21755 */display: inline-block !important;position: relative;}#sk-container-id-4 div.sk-text-repr-fallback {display: none;}</style><div id=\"sk-container-id-4\" class=\"sk-top-container\"><div class=\"sk-text-repr-fallback\"><pre>ColumnTransformer(remainder=&#x27;passthrough&#x27;,\n",
       "                  transformers=[(&#x27;Encoding OneHot&#x27;, OneHotEncoder(),\n",
       "                                 [&#x27;hallwaytype&#x27;, &#x27;subwaystation&#x27;]),\n",
       "                                (&#x27;Encoding Ordinal&#x27;, OrdinalEncoder(),\n",
       "                                 [&#x27;timetosubway&#x27;]),\n",
       "                                (&#x27;Scalling MinMax&#x27;, MinMaxScaler(),\n",
       "                                 [&#x27;n_facilitiesnearby(etc)&#x27;,\n",
       "                                  &#x27;n_facilitiesnearby(publicoffice)&#x27;,\n",
       "                                  &#x27;n_schoolnearby(university)&#x27;,\n",
       "                                  &#x27;n_parkinglot(basement)&#x27;,\n",
       "                                  &#x27;n_facilitiesinapt&#x27;]),\n",
       "                                (&#x27;Scalling Robust&#x27;, RobustScaler(),\n",
       "                                 [&#x27;size(sqf)&#x27;])],\n",
       "                  verbose_feature_names_out=False)</pre><b>In a Jupyter environment, please rerun this cell to show the HTML representation or trust the notebook. <br />On GitHub, the HTML representation is unable to render, please try loading this page with nbviewer.org.</b></div><div class=\"sk-container\" hidden><div class=\"sk-item sk-dashed-wrapped\"><div class=\"sk-label-container\"><div class=\"sk-label sk-toggleable\"><input class=\"sk-toggleable__control sk-hidden--visually\" id=\"sk-estimator-id-26\" type=\"checkbox\" ><label for=\"sk-estimator-id-26\" class=\"sk-toggleable__label sk-toggleable__label-arrow\">ColumnTransformer</label><div class=\"sk-toggleable__content\"><pre>ColumnTransformer(remainder=&#x27;passthrough&#x27;,\n",
       "                  transformers=[(&#x27;Encoding OneHot&#x27;, OneHotEncoder(),\n",
       "                                 [&#x27;hallwaytype&#x27;, &#x27;subwaystation&#x27;]),\n",
       "                                (&#x27;Encoding Ordinal&#x27;, OrdinalEncoder(),\n",
       "                                 [&#x27;timetosubway&#x27;]),\n",
       "                                (&#x27;Scalling MinMax&#x27;, MinMaxScaler(),\n",
       "                                 [&#x27;n_facilitiesnearby(etc)&#x27;,\n",
       "                                  &#x27;n_facilitiesnearby(publicoffice)&#x27;,\n",
       "                                  &#x27;n_schoolnearby(university)&#x27;,\n",
       "                                  &#x27;n_parkinglot(basement)&#x27;,\n",
       "                                  &#x27;n_facilitiesinapt&#x27;]),\n",
       "                                (&#x27;Scalling Robust&#x27;, RobustScaler(),\n",
       "                                 [&#x27;size(sqf)&#x27;])],\n",
       "                  verbose_feature_names_out=False)</pre></div></div></div><div class=\"sk-parallel\"><div class=\"sk-parallel-item\"><div class=\"sk-item\"><div class=\"sk-label-container\"><div class=\"sk-label sk-toggleable\"><input class=\"sk-toggleable__control sk-hidden--visually\" id=\"sk-estimator-id-27\" type=\"checkbox\" ><label for=\"sk-estimator-id-27\" class=\"sk-toggleable__label sk-toggleable__label-arrow\">Encoding OneHot</label><div class=\"sk-toggleable__content\"><pre>[&#x27;hallwaytype&#x27;, &#x27;subwaystation&#x27;]</pre></div></div></div><div class=\"sk-serial\"><div class=\"sk-item\"><div class=\"sk-estimator sk-toggleable\"><input class=\"sk-toggleable__control sk-hidden--visually\" id=\"sk-estimator-id-28\" type=\"checkbox\" ><label for=\"sk-estimator-id-28\" class=\"sk-toggleable__label sk-toggleable__label-arrow\">OneHotEncoder</label><div class=\"sk-toggleable__content\"><pre>OneHotEncoder()</pre></div></div></div></div></div></div><div class=\"sk-parallel-item\"><div class=\"sk-item\"><div class=\"sk-label-container\"><div class=\"sk-label sk-toggleable\"><input class=\"sk-toggleable__control sk-hidden--visually\" id=\"sk-estimator-id-29\" type=\"checkbox\" ><label for=\"sk-estimator-id-29\" class=\"sk-toggleable__label sk-toggleable__label-arrow\">Encoding Ordinal</label><div class=\"sk-toggleable__content\"><pre>[&#x27;timetosubway&#x27;]</pre></div></div></div><div class=\"sk-serial\"><div class=\"sk-item\"><div class=\"sk-estimator sk-toggleable\"><input class=\"sk-toggleable__control sk-hidden--visually\" id=\"sk-estimator-id-30\" type=\"checkbox\" ><label for=\"sk-estimator-id-30\" class=\"sk-toggleable__label sk-toggleable__label-arrow\">OrdinalEncoder</label><div class=\"sk-toggleable__content\"><pre>OrdinalEncoder()</pre></div></div></div></div></div></div><div class=\"sk-parallel-item\"><div class=\"sk-item\"><div class=\"sk-label-container\"><div class=\"sk-label sk-toggleable\"><input class=\"sk-toggleable__control sk-hidden--visually\" id=\"sk-estimator-id-31\" type=\"checkbox\" ><label for=\"sk-estimator-id-31\" class=\"sk-toggleable__label sk-toggleable__label-arrow\">Scalling MinMax</label><div class=\"sk-toggleable__content\"><pre>[&#x27;n_facilitiesnearby(etc)&#x27;, &#x27;n_facilitiesnearby(publicoffice)&#x27;, &#x27;n_schoolnearby(university)&#x27;, &#x27;n_parkinglot(basement)&#x27;, &#x27;n_facilitiesinapt&#x27;]</pre></div></div></div><div class=\"sk-serial\"><div class=\"sk-item\"><div class=\"sk-estimator sk-toggleable\"><input class=\"sk-toggleable__control sk-hidden--visually\" id=\"sk-estimator-id-32\" type=\"checkbox\" ><label for=\"sk-estimator-id-32\" class=\"sk-toggleable__label sk-toggleable__label-arrow\">MinMaxScaler</label><div class=\"sk-toggleable__content\"><pre>MinMaxScaler()</pre></div></div></div></div></div></div><div class=\"sk-parallel-item\"><div class=\"sk-item\"><div class=\"sk-label-container\"><div class=\"sk-label sk-toggleable\"><input class=\"sk-toggleable__control sk-hidden--visually\" id=\"sk-estimator-id-33\" type=\"checkbox\" ><label for=\"sk-estimator-id-33\" class=\"sk-toggleable__label sk-toggleable__label-arrow\">Scalling Robust</label><div class=\"sk-toggleable__content\"><pre>[&#x27;size(sqf)&#x27;]</pre></div></div></div><div class=\"sk-serial\"><div class=\"sk-item\"><div class=\"sk-estimator sk-toggleable\"><input class=\"sk-toggleable__control sk-hidden--visually\" id=\"sk-estimator-id-34\" type=\"checkbox\" ><label for=\"sk-estimator-id-34\" class=\"sk-toggleable__label sk-toggleable__label-arrow\">RobustScaler</label><div class=\"sk-toggleable__content\"><pre>RobustScaler()</pre></div></div></div></div></div></div><div class=\"sk-parallel-item\"><div class=\"sk-item\"><div class=\"sk-label-container\"><div class=\"sk-label sk-toggleable\"><input class=\"sk-toggleable__control sk-hidden--visually\" id=\"sk-estimator-id-35\" type=\"checkbox\" ><label for=\"sk-estimator-id-35\" class=\"sk-toggleable__label sk-toggleable__label-arrow\">remainder</label><div class=\"sk-toggleable__content\"><pre>[&#x27;yearbuilt&#x27;]</pre></div></div></div><div class=\"sk-serial\"><div class=\"sk-item\"><div class=\"sk-estimator sk-toggleable\"><input class=\"sk-toggleable__control sk-hidden--visually\" id=\"sk-estimator-id-36\" type=\"checkbox\" ><label for=\"sk-estimator-id-36\" class=\"sk-toggleable__label sk-toggleable__label-arrow\">passthrough</label><div class=\"sk-toggleable__content\"><pre>passthrough</pre></div></div></div></div></div></div></div></div></div></div>"
      ],
      "text/plain": [
       "ColumnTransformer(remainder='passthrough',\n",
       "                  transformers=[('Encoding OneHot', OneHotEncoder(),\n",
       "                                 ['hallwaytype', 'subwaystation']),\n",
       "                                ('Encoding Ordinal', OrdinalEncoder(),\n",
       "                                 ['timetosubway']),\n",
       "                                ('Scalling MinMax', MinMaxScaler(),\n",
       "                                 ['n_facilitiesnearby(etc)',\n",
       "                                  'n_facilitiesnearby(publicoffice)',\n",
       "                                  'n_schoolnearby(university)',\n",
       "                                  'n_parkinglot(basement)',\n",
       "                                  'n_facilitiesinapt']),\n",
       "                                ('Scalling Robust', RobustScaler(),\n",
       "                                 ['size(sqf)'])],\n",
       "                  verbose_feature_names_out=False)"
      ]
     },
     "execution_count": 118,
     "metadata": {},
     "output_type": "execute_result"
    }
   ],
   "source": [
    "ct = ColumnTransformer(transformers=[\n",
    "    (\"Encoding OneHot\", OneHotEncoder(), ['hallwaytype', 'subwaystation']),\n",
    "    (\"Encoding Ordinal\", OrdinalEncoder(), ['timetosubway']),\n",
    "    (\"Scalling MinMax\", MinMaxScaler(), ['n_facilitiesnearby(etc)', 'n_facilitiesnearby(publicoffice)', \n",
    "                                'n_schoolnearby(university)', 'n_parkinglot(basement)', \n",
    "                                'n_facilitiesinapt']),\n",
    "    (\"Scalling Robust\", RobustScaler(), ['size(sqf)'])\n",
    "], remainder='passthrough', verbose_feature_names_out=False)\n",
    "\n",
    "ct.fit(X_train)"
   ]
  },
  {
   "cell_type": "code",
   "execution_count": 119,
   "metadata": {},
   "outputs": [],
   "source": [
    "X_train_pre = ct.transform(X_train)\n",
    "X_test_pre = ct.transform(X_test)"
   ]
  },
  {
   "cell_type": "code",
   "execution_count": 120,
   "metadata": {},
   "outputs": [
    {
     "data": {
      "text/html": [
       "<style>#sk-container-id-5 {color: black;background-color: white;}#sk-container-id-5 pre{padding: 0;}#sk-container-id-5 div.sk-toggleable {background-color: white;}#sk-container-id-5 label.sk-toggleable__label {cursor: pointer;display: block;width: 100%;margin-bottom: 0;padding: 0.3em;box-sizing: border-box;text-align: center;}#sk-container-id-5 label.sk-toggleable__label-arrow:before {content: \"▸\";float: left;margin-right: 0.25em;color: #696969;}#sk-container-id-5 label.sk-toggleable__label-arrow:hover:before {color: black;}#sk-container-id-5 div.sk-estimator:hover label.sk-toggleable__label-arrow:before {color: black;}#sk-container-id-5 div.sk-toggleable__content {max-height: 0;max-width: 0;overflow: hidden;text-align: left;background-color: #f0f8ff;}#sk-container-id-5 div.sk-toggleable__content pre {margin: 0.2em;color: black;border-radius: 0.25em;background-color: #f0f8ff;}#sk-container-id-5 input.sk-toggleable__control:checked~div.sk-toggleable__content {max-height: 200px;max-width: 100%;overflow: auto;}#sk-container-id-5 input.sk-toggleable__control:checked~label.sk-toggleable__label-arrow:before {content: \"▾\";}#sk-container-id-5 div.sk-estimator input.sk-toggleable__control:checked~label.sk-toggleable__label {background-color: #d4ebff;}#sk-container-id-5 div.sk-label input.sk-toggleable__control:checked~label.sk-toggleable__label {background-color: #d4ebff;}#sk-container-id-5 input.sk-hidden--visually {border: 0;clip: rect(1px 1px 1px 1px);clip: rect(1px, 1px, 1px, 1px);height: 1px;margin: -1px;overflow: hidden;padding: 0;position: absolute;width: 1px;}#sk-container-id-5 div.sk-estimator {font-family: monospace;background-color: #f0f8ff;border: 1px dotted black;border-radius: 0.25em;box-sizing: border-box;margin-bottom: 0.5em;}#sk-container-id-5 div.sk-estimator:hover {background-color: #d4ebff;}#sk-container-id-5 div.sk-parallel-item::after {content: \"\";width: 100%;border-bottom: 1px solid gray;flex-grow: 1;}#sk-container-id-5 div.sk-label:hover label.sk-toggleable__label {background-color: #d4ebff;}#sk-container-id-5 div.sk-serial::before {content: \"\";position: absolute;border-left: 1px solid gray;box-sizing: border-box;top: 0;bottom: 0;left: 50%;z-index: 0;}#sk-container-id-5 div.sk-serial {display: flex;flex-direction: column;align-items: center;background-color: white;padding-right: 0.2em;padding-left: 0.2em;position: relative;}#sk-container-id-5 div.sk-item {position: relative;z-index: 1;}#sk-container-id-5 div.sk-parallel {display: flex;align-items: stretch;justify-content: center;background-color: white;position: relative;}#sk-container-id-5 div.sk-item::before, #sk-container-id-5 div.sk-parallel-item::before {content: \"\";position: absolute;border-left: 1px solid gray;box-sizing: border-box;top: 0;bottom: 0;left: 50%;z-index: -1;}#sk-container-id-5 div.sk-parallel-item {display: flex;flex-direction: column;z-index: 1;position: relative;background-color: white;}#sk-container-id-5 div.sk-parallel-item:first-child::after {align-self: flex-end;width: 50%;}#sk-container-id-5 div.sk-parallel-item:last-child::after {align-self: flex-start;width: 50%;}#sk-container-id-5 div.sk-parallel-item:only-child::after {width: 0;}#sk-container-id-5 div.sk-dashed-wrapped {border: 1px dashed gray;margin: 0 0.4em 0.5em 0.4em;box-sizing: border-box;padding-bottom: 0.4em;background-color: white;}#sk-container-id-5 div.sk-label label {font-family: monospace;font-weight: bold;display: inline-block;line-height: 1.2em;}#sk-container-id-5 div.sk-label-container {text-align: center;}#sk-container-id-5 div.sk-container {/* jupyter's `normalize.less` sets `[hidden] { display: none; }` but bootstrap.min.css set `[hidden] { display: none !important; }` so we also need the `!important` here to be able to override the default hidden behavior on the sphinx rendered scikit-learn.org. See: https://github.com/scikit-learn/scikit-learn/issues/21755 */display: inline-block !important;position: relative;}#sk-container-id-5 div.sk-text-repr-fallback {display: none;}</style><div id=\"sk-container-id-5\" class=\"sk-top-container\"><div class=\"sk-text-repr-fallback\"><pre>OneHotEncoder()</pre><b>In a Jupyter environment, please rerun this cell to show the HTML representation or trust the notebook. <br />On GitHub, the HTML representation is unable to render, please try loading this page with nbviewer.org.</b></div><div class=\"sk-container\" hidden><div class=\"sk-item\"><div class=\"sk-estimator sk-toggleable\"><input class=\"sk-toggleable__control sk-hidden--visually\" id=\"sk-estimator-id-37\" type=\"checkbox\" checked><label for=\"sk-estimator-id-37\" class=\"sk-toggleable__label sk-toggleable__label-arrow\">OneHotEncoder</label><div class=\"sk-toggleable__content\"><pre>OneHotEncoder()</pre></div></div></div></div></div>"
      ],
      "text/plain": [
       "OneHotEncoder()"
      ]
     },
     "execution_count": 120,
     "metadata": {},
     "output_type": "execute_result"
    }
   ],
   "source": [
    "ct.transformers_[0][1]"
   ]
  },
  {
   "cell_type": "code",
   "execution_count": 121,
   "metadata": {},
   "outputs": [
    {
     "data": {
      "text/html": [
       "<div>\n",
       "<style scoped>\n",
       "    .dataframe tbody tr th:only-of-type {\n",
       "        vertical-align: middle;\n",
       "    }\n",
       "\n",
       "    .dataframe tbody tr th {\n",
       "        vertical-align: top;\n",
       "    }\n",
       "\n",
       "    .dataframe thead th {\n",
       "        text-align: right;\n",
       "    }\n",
       "</style>\n",
       "<table border=\"1\" class=\"dataframe\">\n",
       "  <thead>\n",
       "    <tr style=\"text-align: right;\">\n",
       "      <th></th>\n",
       "      <th>hallwaytype_corridor</th>\n",
       "      <th>hallwaytype_mixed</th>\n",
       "      <th>hallwaytype_terraced</th>\n",
       "      <th>subwaystation_Bangoge</th>\n",
       "      <th>subwaystation_Banwoldang</th>\n",
       "      <th>subwaystation_Chil-sung-market</th>\n",
       "      <th>subwaystation_Daegu</th>\n",
       "      <th>subwaystation_Kyungbuk_uni_hospital</th>\n",
       "      <th>subwaystation_Myung-duk</th>\n",
       "      <th>subwaystation_Sin-nam</th>\n",
       "      <th>subwaystation_no_subway_nearby</th>\n",
       "      <th>timetosubway</th>\n",
       "      <th>n_facilitiesnearby(etc)</th>\n",
       "      <th>n_facilitiesnearby(publicoffice)</th>\n",
       "      <th>n_schoolnearby(university)</th>\n",
       "      <th>n_parkinglot(basement)</th>\n",
       "      <th>n_facilitiesinapt</th>\n",
       "      <th>size(sqf)</th>\n",
       "      <th>yearbuilt</th>\n",
       "    </tr>\n",
       "  </thead>\n",
       "  <tbody>\n",
       "    <tr>\n",
       "      <th>0</th>\n",
       "      <td>0.0</td>\n",
       "      <td>1.0</td>\n",
       "      <td>0.0</td>\n",
       "      <td>0.0</td>\n",
       "      <td>0.0</td>\n",
       "      <td>0.0</td>\n",
       "      <td>0.0</td>\n",
       "      <td>0.0</td>\n",
       "      <td>1.0</td>\n",
       "      <td>0.0</td>\n",
       "      <td>0.0</td>\n",
       "      <td>2.0</td>\n",
       "      <td>1.0</td>\n",
       "      <td>0.857143</td>\n",
       "      <td>1.0</td>\n",
       "      <td>0.405753</td>\n",
       "      <td>0.333333</td>\n",
       "      <td>2.765504</td>\n",
       "      <td>1993.0</td>\n",
       "    </tr>\n",
       "    <tr>\n",
       "      <th>1</th>\n",
       "      <td>0.0</td>\n",
       "      <td>0.0</td>\n",
       "      <td>1.0</td>\n",
       "      <td>0.0</td>\n",
       "      <td>1.0</td>\n",
       "      <td>0.0</td>\n",
       "      <td>0.0</td>\n",
       "      <td>0.0</td>\n",
       "      <td>0.0</td>\n",
       "      <td>0.0</td>\n",
       "      <td>0.0</td>\n",
       "      <td>0.0</td>\n",
       "      <td>0.0</td>\n",
       "      <td>0.571429</td>\n",
       "      <td>0.2</td>\n",
       "      <td>0.457986</td>\n",
       "      <td>0.444444</td>\n",
       "      <td>0.821705</td>\n",
       "      <td>2007.0</td>\n",
       "    </tr>\n",
       "    <tr>\n",
       "      <th>2</th>\n",
       "      <td>0.0</td>\n",
       "      <td>1.0</td>\n",
       "      <td>0.0</td>\n",
       "      <td>0.0</td>\n",
       "      <td>0.0</td>\n",
       "      <td>0.0</td>\n",
       "      <td>0.0</td>\n",
       "      <td>0.0</td>\n",
       "      <td>1.0</td>\n",
       "      <td>0.0</td>\n",
       "      <td>0.0</td>\n",
       "      <td>2.0</td>\n",
       "      <td>1.0</td>\n",
       "      <td>0.857143</td>\n",
       "      <td>1.0</td>\n",
       "      <td>0.405753</td>\n",
       "      <td>0.333333</td>\n",
       "      <td>0.007752</td>\n",
       "      <td>1993.0</td>\n",
       "    </tr>\n",
       "    <tr>\n",
       "      <th>3</th>\n",
       "      <td>0.0</td>\n",
       "      <td>0.0</td>\n",
       "      <td>1.0</td>\n",
       "      <td>0.0</td>\n",
       "      <td>0.0</td>\n",
       "      <td>0.0</td>\n",
       "      <td>0.0</td>\n",
       "      <td>0.0</td>\n",
       "      <td>0.0</td>\n",
       "      <td>0.0</td>\n",
       "      <td>1.0</td>\n",
       "      <td>3.0</td>\n",
       "      <td>0.0</td>\n",
       "      <td>0.142857</td>\n",
       "      <td>0.2</td>\n",
       "      <td>1.000000</td>\n",
       "      <td>1.000000</td>\n",
       "      <td>-0.515504</td>\n",
       "      <td>2015.0</td>\n",
       "    </tr>\n",
       "    <tr>\n",
       "      <th>4</th>\n",
       "      <td>0.0</td>\n",
       "      <td>0.0</td>\n",
       "      <td>1.0</td>\n",
       "      <td>0.0</td>\n",
       "      <td>0.0</td>\n",
       "      <td>0.0</td>\n",
       "      <td>0.0</td>\n",
       "      <td>0.0</td>\n",
       "      <td>0.0</td>\n",
       "      <td>1.0</td>\n",
       "      <td>0.0</td>\n",
       "      <td>0.0</td>\n",
       "      <td>0.0</td>\n",
       "      <td>0.428571</td>\n",
       "      <td>0.4</td>\n",
       "      <td>0.359576</td>\n",
       "      <td>0.777778</td>\n",
       "      <td>-0.156977</td>\n",
       "      <td>2008.0</td>\n",
       "    </tr>\n",
       "  </tbody>\n",
       "</table>\n",
       "</div>"
      ],
      "text/plain": [
       "   hallwaytype_corridor  hallwaytype_mixed  hallwaytype_terraced  \\\n",
       "0                   0.0                1.0                   0.0   \n",
       "1                   0.0                0.0                   1.0   \n",
       "2                   0.0                1.0                   0.0   \n",
       "3                   0.0                0.0                   1.0   \n",
       "4                   0.0                0.0                   1.0   \n",
       "\n",
       "   subwaystation_Bangoge  subwaystation_Banwoldang  \\\n",
       "0                    0.0                       0.0   \n",
       "1                    0.0                       1.0   \n",
       "2                    0.0                       0.0   \n",
       "3                    0.0                       0.0   \n",
       "4                    0.0                       0.0   \n",
       "\n",
       "   subwaystation_Chil-sung-market  subwaystation_Daegu  \\\n",
       "0                             0.0                  0.0   \n",
       "1                             0.0                  0.0   \n",
       "2                             0.0                  0.0   \n",
       "3                             0.0                  0.0   \n",
       "4                             0.0                  0.0   \n",
       "\n",
       "   subwaystation_Kyungbuk_uni_hospital  subwaystation_Myung-duk  \\\n",
       "0                                  0.0                      1.0   \n",
       "1                                  0.0                      0.0   \n",
       "2                                  0.0                      1.0   \n",
       "3                                  0.0                      0.0   \n",
       "4                                  0.0                      0.0   \n",
       "\n",
       "   subwaystation_Sin-nam  subwaystation_no_subway_nearby  timetosubway  \\\n",
       "0                    0.0                             0.0           2.0   \n",
       "1                    0.0                             0.0           0.0   \n",
       "2                    0.0                             0.0           2.0   \n",
       "3                    0.0                             1.0           3.0   \n",
       "4                    1.0                             0.0           0.0   \n",
       "\n",
       "   n_facilitiesnearby(etc)  n_facilitiesnearby(publicoffice)  \\\n",
       "0                      1.0                          0.857143   \n",
       "1                      0.0                          0.571429   \n",
       "2                      1.0                          0.857143   \n",
       "3                      0.0                          0.142857   \n",
       "4                      0.0                          0.428571   \n",
       "\n",
       "   n_schoolnearby(university)  n_parkinglot(basement)  n_facilitiesinapt  \\\n",
       "0                         1.0                0.405753           0.333333   \n",
       "1                         0.2                0.457986           0.444444   \n",
       "2                         1.0                0.405753           0.333333   \n",
       "3                         0.2                1.000000           1.000000   \n",
       "4                         0.4                0.359576           0.777778   \n",
       "\n",
       "   size(sqf)  yearbuilt  \n",
       "0   2.765504     1993.0  \n",
       "1   0.821705     2007.0  \n",
       "2   0.007752     1993.0  \n",
       "3  -0.515504     2015.0  \n",
       "4  -0.156977     2008.0  "
      ]
     },
     "execution_count": 121,
     "metadata": {},
     "output_type": "execute_result"
    }
   ],
   "source": [
    "column_name = ct.get_feature_names_out()\n",
    "X_train_pre = pd.DataFrame(X_train_pre, columns=column_name)\n",
    "X_train_pre.head()"
   ]
  },
  {
   "attachments": {},
   "cell_type": "markdown",
   "metadata": {},
   "source": [
    "## Pembuatan Model"
   ]
  },
  {
   "attachments": {},
   "cell_type": "markdown",
   "metadata": {},
   "source": [
    "Model yang akan dikomparasi adalah Linear Rgression, LGBM Regressor, Decision Tree Regressor, Random Forest Regressor, dan XGBoost Regressor. Sebelumnya sudah juga dicoba model seperti Ridge, Lasso, SVRegressor, dan juga KN Regressor. Akan tetapi, model tersebut mempunyai evaluasi metrics yang kurang dibandingkan model yang digunakan."
   ]
  },
  {
   "cell_type": "code",
   "execution_count": 122,
   "metadata": {},
   "outputs": [],
   "source": [
    "# Membuat list model dan nama model\n",
    "models = [LinearRegression(), LGBMRegressor(), DecisionTreeRegressor(random_state=1), RandomForestRegressor(random_state=1), XGBRegressor(random_state=1)]\n",
    "model_names = ['Linear Regression', 'LGBM Regressor', 'Decision Tree Regression', 'Random Forest Regressor', 'XGB Regressor']\n",
    "\n",
    "# Membuat list untuk menyimpan hasil evaluasi metrics\n",
    "r_squared = []\n",
    "mae = []\n",
    "rmse = []\n",
    "mape = []\n",
    "\n",
    "# Looping untuk setiap model\n",
    "for model in models:\n",
    "    # Melakukan cross validation dan menghitung metrics\n",
    "    scores = cross_val_score(model, X_train_pre, y_train, cv=5, scoring='neg_mean_squared_error')\n",
    "    rmse_scores = np.sqrt(-scores)\n",
    "    r_squared_scores = cross_val_score(model, X_train_pre, y_train, cv=5, scoring='r2')\n",
    "    mae_scores = cross_val_score(model, X_train_pre, y_train, cv=5, scoring='neg_mean_absolute_error')\n",
    "    mape_scores = cross_val_score(model, X_train_pre, y_train, cv=5, scoring='neg_mean_absolute_percentage_error')\n",
    "    \n",
    "    # Menyimpan rata-rata metrics\n",
    "    rmse_mean = rmse_scores.mean()\n",
    "    r_squared_mean = r_squared_scores.mean()\n",
    "    mae_mean = -mae_scores.mean()\n",
    "    mape_mean = -mape_scores.mean()\n",
    "    \n",
    "    # Menambahkan metrics ke dalam list\n",
    "    rmse.append(rmse_mean)\n",
    "    r_squared.append(r_squared_mean)\n",
    "    mae.append(mae_mean)\n",
    "    mape.append(mape_mean)\n",
    "\n"
   ]
  },
  {
   "cell_type": "code",
   "execution_count": 123,
   "metadata": {},
   "outputs": [
    {
     "data": {
      "text/html": [
       "<div>\n",
       "<style scoped>\n",
       "    .dataframe tbody tr th:only-of-type {\n",
       "        vertical-align: middle;\n",
       "    }\n",
       "\n",
       "    .dataframe tbody tr th {\n",
       "        vertical-align: top;\n",
       "    }\n",
       "\n",
       "    .dataframe thead th {\n",
       "        text-align: right;\n",
       "    }\n",
       "</style>\n",
       "<table border=\"1\" class=\"dataframe\">\n",
       "  <thead>\n",
       "    <tr style=\"text-align: right;\">\n",
       "      <th></th>\n",
       "      <th>Model</th>\n",
       "      <th>R-squared</th>\n",
       "      <th>MAE</th>\n",
       "      <th>RMSE</th>\n",
       "      <th>MAPE</th>\n",
       "    </tr>\n",
       "  </thead>\n",
       "  <tbody>\n",
       "    <tr>\n",
       "      <th>0</th>\n",
       "      <td>Linear Regression</td>\n",
       "      <td>0.762093</td>\n",
       "      <td>42345.662299</td>\n",
       "      <td>52346.678815</td>\n",
       "      <td>0.229440</td>\n",
       "    </tr>\n",
       "    <tr>\n",
       "      <th>1</th>\n",
       "      <td>LGBM Regressor</td>\n",
       "      <td>0.834621</td>\n",
       "      <td>34545.047516</td>\n",
       "      <td>43634.799257</td>\n",
       "      <td>0.184157</td>\n",
       "    </tr>\n",
       "    <tr>\n",
       "      <th>2</th>\n",
       "      <td>Decision Tree Regression</td>\n",
       "      <td>0.834971</td>\n",
       "      <td>34493.184692</td>\n",
       "      <td>43584.996638</td>\n",
       "      <td>0.183551</td>\n",
       "    </tr>\n",
       "    <tr>\n",
       "      <th>3</th>\n",
       "      <td>Random Forest Regressor</td>\n",
       "      <td>0.834162</td>\n",
       "      <td>34545.692170</td>\n",
       "      <td>43693.869932</td>\n",
       "      <td>0.184494</td>\n",
       "    </tr>\n",
       "    <tr>\n",
       "      <th>4</th>\n",
       "      <td>XGB Regressor</td>\n",
       "      <td>0.834739</td>\n",
       "      <td>34527.393836</td>\n",
       "      <td>43616.407727</td>\n",
       "      <td>0.183989</td>\n",
       "    </tr>\n",
       "  </tbody>\n",
       "</table>\n",
       "</div>"
      ],
      "text/plain": [
       "                      Model  R-squared           MAE          RMSE      MAPE\n",
       "0         Linear Regression   0.762093  42345.662299  52346.678815  0.229440\n",
       "1            LGBM Regressor   0.834621  34545.047516  43634.799257  0.184157\n",
       "2  Decision Tree Regression   0.834971  34493.184692  43584.996638  0.183551\n",
       "3   Random Forest Regressor   0.834162  34545.692170  43693.869932  0.184494\n",
       "4             XGB Regressor   0.834739  34527.393836  43616.407727  0.183989"
      ]
     },
     "execution_count": 123,
     "metadata": {},
     "output_type": "execute_result"
    }
   ],
   "source": [
    "# Membuat DataFrame untuk menampilkan metrics\n",
    "metrics_df = pd.DataFrame({'Model': model_names,\n",
    "                           'R-squared': r_squared,\n",
    "                           'MAE': mae,\n",
    "                           'RMSE': rmse,\n",
    "                           'MAPE': mape})\n",
    "\n",
    "metrics_df"
   ]
  },
  {
   "attachments": {},
   "cell_type": "markdown",
   "metadata": {},
   "source": [
    "Pada evaluation metrics, disini metrics yang digunakan adalah R2, MAE, RMSE, MAPE. \n",
    " - R2 atau R squared adalh metrik evaluasi yang mengukur sejauh mana varaibel target dapat dijelaskan oleh model regresi. Nilai R2 adalah antara 0 sampai 1 dimana semakin mendekati 1 semakin baik modelnya.\n",
    "\n",
    "- MAE adalah Mean Absolute Error yang mengukur rata-rata kesalahan absolut dari nilai yang akan diprediksi dengan model dan nilai asli dalam dataset. Lebih kecil nilai MAEnya lebih bagus model yang dibuat.\n",
    "\n",
    "- Kemudian metrics selanjutnya adalah RMSE. RMSE adalah Root Mean Squared Error yang menghitung akar kuadrat dari rata-rata kesalahan kuadrat dari nilai yang akan diprediksi oleh model dan nilai yang sebenarnya dalam dataset. Semakin kecil nilai RMSEnya maka model semakin bagus.\n",
    "\n",
    "- Yang terakhir adalah MAPE. MAPE adalah Mean Absolute Percentage Error yang mengukur kesalah rata-rata dalam persentase antara nilai yang diprediksi oleh model dan nilai sebenarnya dalam data. Semakin kecil MAPEnya semakin bagus modelnya."
   ]
  },
  {
   "attachments": {},
   "cell_type": "markdown",
   "metadata": {},
   "source": [
    "Dapat dilihat dari hasil pembuatan model diatas, dapat dilihat berdasarkan evaluation metricsnya pada data training yaitu model yang mempunyai evaluation yang bagus adalah Decision Tree dan XGBoost. Jika dilihat berdasarkan RMSEnya, model yang paling bagus adalah Random Forest kemudian diikuti oleh XGBoost. Kemudian jika dilihat berdasarkan R-squarednya, Kedua model tersebut mempunyai hasil yang bagus juga yaitu sebesar 0.834 pada kedua model.\n",
    "\n",
    "Akan tetapi, jika dilihat berdasarkan RMSEnya, kedua model tersebut masih mempunyai nilai yang tinggi. Untuk RMSE seharusnya mempunyai nilai yang makin kecil semakin baik. Dibawah ini akan dilihat dari hasil evaluation metrics pada data testing."
   ]
  },
  {
   "attachments": {},
   "cell_type": "markdown",
   "metadata": {},
   "source": [
    "**Melakukan perbandingan antara train dan test**"
   ]
  },
  {
   "attachments": {},
   "cell_type": "markdown",
   "metadata": {},
   "source": [
    "Dilakukan juga bagging pada model Decision tree untuk meningkatkan evaluation metrics pada model."
   ]
  },
  {
   "cell_type": "code",
   "execution_count": 124,
   "metadata": {},
   "outputs": [],
   "source": [
    "decision_tree = DecisionTreeRegressor(random_state=1)\n",
    "\n",
    "# Membuat model dengan metode Bagging menggunakan Decision Tree sebagai estimator\n",
    "bagging_model = BaggingRegressor(base_estimator=decision_tree, n_estimators=10, random_state=1)"
   ]
  },
  {
   "cell_type": "code",
   "execution_count": 125,
   "metadata": {},
   "outputs": [
    {
     "name": "stderr",
     "output_type": "stream",
     "text": [
      "c:\\Users\\ASUS\\AppData\\Local\\Programs\\Python\\Python311\\Lib\\site-packages\\sklearn\\ensemble\\_base.py:166: FutureWarning: `base_estimator` was renamed to `estimator` in version 1.2 and will be removed in 1.4.\n",
      "  warnings.warn(\n",
      "c:\\Users\\ASUS\\AppData\\Local\\Programs\\Python\\Python311\\Lib\\site-packages\\sklearn\\base.py:439: UserWarning: X does not have valid feature names, but BaggingRegressor was fitted with feature names\n",
      "  warnings.warn(\n"
     ]
    }
   ],
   "source": [
    "models = [bagging_model, XGBRegressor(random_state=1)]\n",
    "model_names = ['Decision Tree Regressor (bagging)', 'XGB Regressor']\n",
    "\n",
    "r_squared = []\n",
    "mae = []\n",
    "rmse = []\n",
    "mape = []\n",
    "\n",
    "# Looping untuk setiap model\n",
    "for model in models:\n",
    "    # Melatih model pada data training\n",
    "    model.fit(X_train_pre, y_train)\n",
    "    \n",
    "    # Memprediksi target pada data testing\n",
    "    y_pred = model.predict(X_test_pre)\n",
    "    \n",
    "    # Menghitung metrics\n",
    "    r_squared_score = r2_score(y_test, y_pred)\n",
    "    mae_score = mean_absolute_error(y_test, y_pred)\n",
    "    rmse_score = mean_squared_error(y_test, y_pred, squared=False)\n",
    "    mape_score = mean_absolute_percentage_error(y_test, y_pred)\n",
    "    \n",
    "    # Menambahkan metrics ke dalam list\n",
    "    r_squared.append(r_squared_score)\n",
    "    mae.append(mae_score)\n",
    "    rmse.append(rmse_score)\n",
    "    mape.append(mape_score)\n"
   ]
  },
  {
   "cell_type": "code",
   "execution_count": 126,
   "metadata": {},
   "outputs": [
    {
     "data": {
      "text/html": [
       "<div>\n",
       "<style scoped>\n",
       "    .dataframe tbody tr th:only-of-type {\n",
       "        vertical-align: middle;\n",
       "    }\n",
       "\n",
       "    .dataframe tbody tr th {\n",
       "        vertical-align: top;\n",
       "    }\n",
       "\n",
       "    .dataframe thead th {\n",
       "        text-align: right;\n",
       "    }\n",
       "</style>\n",
       "<table border=\"1\" class=\"dataframe\">\n",
       "  <thead>\n",
       "    <tr style=\"text-align: right;\">\n",
       "      <th></th>\n",
       "      <th>Model</th>\n",
       "      <th>R-squared</th>\n",
       "      <th>MAE</th>\n",
       "      <th>RMSE</th>\n",
       "      <th>MAPE</th>\n",
       "    </tr>\n",
       "  </thead>\n",
       "  <tbody>\n",
       "    <tr>\n",
       "      <th>0</th>\n",
       "      <td>Decision Tree Regressor (bagging)</td>\n",
       "      <td>0.843024</td>\n",
       "      <td>32074.615053</td>\n",
       "      <td>41144.495812</td>\n",
       "      <td>0.177594</td>\n",
       "    </tr>\n",
       "    <tr>\n",
       "      <th>1</th>\n",
       "      <td>XGB Regressor</td>\n",
       "      <td>0.843058</td>\n",
       "      <td>32222.422240</td>\n",
       "      <td>41140.085458</td>\n",
       "      <td>0.178085</td>\n",
       "    </tr>\n",
       "  </tbody>\n",
       "</table>\n",
       "</div>"
      ],
      "text/plain": [
       "                               Model  R-squared           MAE          RMSE  \\\n",
       "0  Decision Tree Regressor (bagging)   0.843024  32074.615053  41144.495812   \n",
       "1                      XGB Regressor   0.843058  32222.422240  41140.085458   \n",
       "\n",
       "       MAPE  \n",
       "0  0.177594  \n",
       "1  0.178085  "
      ]
     },
     "execution_count": 126,
     "metadata": {},
     "output_type": "execute_result"
    }
   ],
   "source": [
    "metrics_test = pd.DataFrame({'Model': model_names,\n",
    "                           'R-squared': r_squared,\n",
    "                           'MAE': mae,\n",
    "                           'RMSE': rmse,\n",
    "                           'MAPE': mape})\n",
    "\n",
    "metrics_test"
   ]
  },
  {
   "attachments": {},
   "cell_type": "markdown",
   "metadata": {},
   "source": [
    "Berikut adalah hasil dari evaluation metrics pada data testing. Dapat dilihat bahwa ada peningkatan untuk kedua model saat testing. Jika dilihat berdasarkan evaluation metricsnya, kedua model memang tidak begitu berbeda jauh. Akan tetapi XGBoost Regressor memiliki nilai yang sedikit lebih baik dibandingkan model Decision Tree Regressor.\n",
    "\n",
    "Berdasarkan evaluation metrics tersebut, maka model yang akan digunakan adalah XGBoost Regressor. Model tersebut akan dicoba untuk menggunakan hyperparameter tuning dengan tujuan agar model menjadi lebih baik dibandingkan model awal."
   ]
  },
  {
   "attachments": {},
   "cell_type": "markdown",
   "metadata": {},
   "source": [
    "**XGBoost regressor dengan hyperparameter tuning**"
   ]
  },
  {
   "cell_type": "code",
   "execution_count": 127,
   "metadata": {},
   "outputs": [],
   "source": [
    "# Membangun pipeline dengan transformer dan model Gradient Boosting\n",
    "xgb_pipeline = Pipeline([\n",
    "    ('transformer', ct),\n",
    "    ('regressor', XGBRegressor(random_state=1))\n",
    "])"
   ]
  },
  {
   "cell_type": "code",
   "execution_count": 128,
   "metadata": {},
   "outputs": [
    {
     "data": {
      "text/html": [
       "<style>#sk-container-id-6 {color: black;background-color: white;}#sk-container-id-6 pre{padding: 0;}#sk-container-id-6 div.sk-toggleable {background-color: white;}#sk-container-id-6 label.sk-toggleable__label {cursor: pointer;display: block;width: 100%;margin-bottom: 0;padding: 0.3em;box-sizing: border-box;text-align: center;}#sk-container-id-6 label.sk-toggleable__label-arrow:before {content: \"▸\";float: left;margin-right: 0.25em;color: #696969;}#sk-container-id-6 label.sk-toggleable__label-arrow:hover:before {color: black;}#sk-container-id-6 div.sk-estimator:hover label.sk-toggleable__label-arrow:before {color: black;}#sk-container-id-6 div.sk-toggleable__content {max-height: 0;max-width: 0;overflow: hidden;text-align: left;background-color: #f0f8ff;}#sk-container-id-6 div.sk-toggleable__content pre {margin: 0.2em;color: black;border-radius: 0.25em;background-color: #f0f8ff;}#sk-container-id-6 input.sk-toggleable__control:checked~div.sk-toggleable__content {max-height: 200px;max-width: 100%;overflow: auto;}#sk-container-id-6 input.sk-toggleable__control:checked~label.sk-toggleable__label-arrow:before {content: \"▾\";}#sk-container-id-6 div.sk-estimator input.sk-toggleable__control:checked~label.sk-toggleable__label {background-color: #d4ebff;}#sk-container-id-6 div.sk-label input.sk-toggleable__control:checked~label.sk-toggleable__label {background-color: #d4ebff;}#sk-container-id-6 input.sk-hidden--visually {border: 0;clip: rect(1px 1px 1px 1px);clip: rect(1px, 1px, 1px, 1px);height: 1px;margin: -1px;overflow: hidden;padding: 0;position: absolute;width: 1px;}#sk-container-id-6 div.sk-estimator {font-family: monospace;background-color: #f0f8ff;border: 1px dotted black;border-radius: 0.25em;box-sizing: border-box;margin-bottom: 0.5em;}#sk-container-id-6 div.sk-estimator:hover {background-color: #d4ebff;}#sk-container-id-6 div.sk-parallel-item::after {content: \"\";width: 100%;border-bottom: 1px solid gray;flex-grow: 1;}#sk-container-id-6 div.sk-label:hover label.sk-toggleable__label {background-color: #d4ebff;}#sk-container-id-6 div.sk-serial::before {content: \"\";position: absolute;border-left: 1px solid gray;box-sizing: border-box;top: 0;bottom: 0;left: 50%;z-index: 0;}#sk-container-id-6 div.sk-serial {display: flex;flex-direction: column;align-items: center;background-color: white;padding-right: 0.2em;padding-left: 0.2em;position: relative;}#sk-container-id-6 div.sk-item {position: relative;z-index: 1;}#sk-container-id-6 div.sk-parallel {display: flex;align-items: stretch;justify-content: center;background-color: white;position: relative;}#sk-container-id-6 div.sk-item::before, #sk-container-id-6 div.sk-parallel-item::before {content: \"\";position: absolute;border-left: 1px solid gray;box-sizing: border-box;top: 0;bottom: 0;left: 50%;z-index: -1;}#sk-container-id-6 div.sk-parallel-item {display: flex;flex-direction: column;z-index: 1;position: relative;background-color: white;}#sk-container-id-6 div.sk-parallel-item:first-child::after {align-self: flex-end;width: 50%;}#sk-container-id-6 div.sk-parallel-item:last-child::after {align-self: flex-start;width: 50%;}#sk-container-id-6 div.sk-parallel-item:only-child::after {width: 0;}#sk-container-id-6 div.sk-dashed-wrapped {border: 1px dashed gray;margin: 0 0.4em 0.5em 0.4em;box-sizing: border-box;padding-bottom: 0.4em;background-color: white;}#sk-container-id-6 div.sk-label label {font-family: monospace;font-weight: bold;display: inline-block;line-height: 1.2em;}#sk-container-id-6 div.sk-label-container {text-align: center;}#sk-container-id-6 div.sk-container {/* jupyter's `normalize.less` sets `[hidden] { display: none; }` but bootstrap.min.css set `[hidden] { display: none !important; }` so we also need the `!important` here to be able to override the default hidden behavior on the sphinx rendered scikit-learn.org. See: https://github.com/scikit-learn/scikit-learn/issues/21755 */display: inline-block !important;position: relative;}#sk-container-id-6 div.sk-text-repr-fallback {display: none;}</style><div id=\"sk-container-id-6\" class=\"sk-top-container\"><div class=\"sk-text-repr-fallback\"><pre>Pipeline(steps=[(&#x27;transformer&#x27;,\n",
       "                 ColumnTransformer(remainder=&#x27;passthrough&#x27;,\n",
       "                                   transformers=[(&#x27;Encoding OneHot&#x27;,\n",
       "                                                  OneHotEncoder(),\n",
       "                                                  [&#x27;hallwaytype&#x27;,\n",
       "                                                   &#x27;subwaystation&#x27;]),\n",
       "                                                 (&#x27;Encoding Ordinal&#x27;,\n",
       "                                                  OrdinalEncoder(),\n",
       "                                                  [&#x27;timetosubway&#x27;]),\n",
       "                                                 (&#x27;Scalling MinMax&#x27;,\n",
       "                                                  MinMaxScaler(),\n",
       "                                                  [&#x27;n_facilitiesnearby(etc)&#x27;,\n",
       "                                                   &#x27;n_facilitiesnearby(publicoffice)&#x27;,\n",
       "                                                   &#x27;n_schoolnearby(university)&#x27;,\n",
       "                                                   &#x27;n_parkinglot(base...\n",
       "                              feature_types=None, gamma=None, gpu_id=None,\n",
       "                              grow_policy=None, importance_type=None,\n",
       "                              interaction_constraints=None, learning_rate=None,\n",
       "                              max_bin=None, max_cat_threshold=None,\n",
       "                              max_cat_to_onehot=None, max_delta_step=None,\n",
       "                              max_depth=None, max_leaves=None,\n",
       "                              min_child_weight=None, missing=nan,\n",
       "                              monotone_constraints=None, n_estimators=100,\n",
       "                              n_jobs=None, num_parallel_tree=None,\n",
       "                              predictor=None, random_state=1, ...))])</pre><b>In a Jupyter environment, please rerun this cell to show the HTML representation or trust the notebook. <br />On GitHub, the HTML representation is unable to render, please try loading this page with nbviewer.org.</b></div><div class=\"sk-container\" hidden><div class=\"sk-item sk-dashed-wrapped\"><div class=\"sk-label-container\"><div class=\"sk-label sk-toggleable\"><input class=\"sk-toggleable__control sk-hidden--visually\" id=\"sk-estimator-id-38\" type=\"checkbox\" ><label for=\"sk-estimator-id-38\" class=\"sk-toggleable__label sk-toggleable__label-arrow\">Pipeline</label><div class=\"sk-toggleable__content\"><pre>Pipeline(steps=[(&#x27;transformer&#x27;,\n",
       "                 ColumnTransformer(remainder=&#x27;passthrough&#x27;,\n",
       "                                   transformers=[(&#x27;Encoding OneHot&#x27;,\n",
       "                                                  OneHotEncoder(),\n",
       "                                                  [&#x27;hallwaytype&#x27;,\n",
       "                                                   &#x27;subwaystation&#x27;]),\n",
       "                                                 (&#x27;Encoding Ordinal&#x27;,\n",
       "                                                  OrdinalEncoder(),\n",
       "                                                  [&#x27;timetosubway&#x27;]),\n",
       "                                                 (&#x27;Scalling MinMax&#x27;,\n",
       "                                                  MinMaxScaler(),\n",
       "                                                  [&#x27;n_facilitiesnearby(etc)&#x27;,\n",
       "                                                   &#x27;n_facilitiesnearby(publicoffice)&#x27;,\n",
       "                                                   &#x27;n_schoolnearby(university)&#x27;,\n",
       "                                                   &#x27;n_parkinglot(base...\n",
       "                              feature_types=None, gamma=None, gpu_id=None,\n",
       "                              grow_policy=None, importance_type=None,\n",
       "                              interaction_constraints=None, learning_rate=None,\n",
       "                              max_bin=None, max_cat_threshold=None,\n",
       "                              max_cat_to_onehot=None, max_delta_step=None,\n",
       "                              max_depth=None, max_leaves=None,\n",
       "                              min_child_weight=None, missing=nan,\n",
       "                              monotone_constraints=None, n_estimators=100,\n",
       "                              n_jobs=None, num_parallel_tree=None,\n",
       "                              predictor=None, random_state=1, ...))])</pre></div></div></div><div class=\"sk-serial\"><div class=\"sk-item sk-dashed-wrapped\"><div class=\"sk-label-container\"><div class=\"sk-label sk-toggleable\"><input class=\"sk-toggleable__control sk-hidden--visually\" id=\"sk-estimator-id-39\" type=\"checkbox\" ><label for=\"sk-estimator-id-39\" class=\"sk-toggleable__label sk-toggleable__label-arrow\">transformer: ColumnTransformer</label><div class=\"sk-toggleable__content\"><pre>ColumnTransformer(remainder=&#x27;passthrough&#x27;,\n",
       "                  transformers=[(&#x27;Encoding OneHot&#x27;, OneHotEncoder(),\n",
       "                                 [&#x27;hallwaytype&#x27;, &#x27;subwaystation&#x27;]),\n",
       "                                (&#x27;Encoding Ordinal&#x27;, OrdinalEncoder(),\n",
       "                                 [&#x27;timetosubway&#x27;]),\n",
       "                                (&#x27;Scalling MinMax&#x27;, MinMaxScaler(),\n",
       "                                 [&#x27;n_facilitiesnearby(etc)&#x27;,\n",
       "                                  &#x27;n_facilitiesnearby(publicoffice)&#x27;,\n",
       "                                  &#x27;n_schoolnearby(university)&#x27;,\n",
       "                                  &#x27;n_parkinglot(basement)&#x27;,\n",
       "                                  &#x27;n_facilitiesinapt&#x27;]),\n",
       "                                (&#x27;Scalling Robust&#x27;, RobustScaler(),\n",
       "                                 [&#x27;size(sqf)&#x27;])],\n",
       "                  verbose_feature_names_out=False)</pre></div></div></div><div class=\"sk-parallel\"><div class=\"sk-parallel-item\"><div class=\"sk-item\"><div class=\"sk-label-container\"><div class=\"sk-label sk-toggleable\"><input class=\"sk-toggleable__control sk-hidden--visually\" id=\"sk-estimator-id-40\" type=\"checkbox\" ><label for=\"sk-estimator-id-40\" class=\"sk-toggleable__label sk-toggleable__label-arrow\">Encoding OneHot</label><div class=\"sk-toggleable__content\"><pre>[&#x27;hallwaytype&#x27;, &#x27;subwaystation&#x27;]</pre></div></div></div><div class=\"sk-serial\"><div class=\"sk-item\"><div class=\"sk-estimator sk-toggleable\"><input class=\"sk-toggleable__control sk-hidden--visually\" id=\"sk-estimator-id-41\" type=\"checkbox\" ><label for=\"sk-estimator-id-41\" class=\"sk-toggleable__label sk-toggleable__label-arrow\">OneHotEncoder</label><div class=\"sk-toggleable__content\"><pre>OneHotEncoder()</pre></div></div></div></div></div></div><div class=\"sk-parallel-item\"><div class=\"sk-item\"><div class=\"sk-label-container\"><div class=\"sk-label sk-toggleable\"><input class=\"sk-toggleable__control sk-hidden--visually\" id=\"sk-estimator-id-42\" type=\"checkbox\" ><label for=\"sk-estimator-id-42\" class=\"sk-toggleable__label sk-toggleable__label-arrow\">Encoding Ordinal</label><div class=\"sk-toggleable__content\"><pre>[&#x27;timetosubway&#x27;]</pre></div></div></div><div class=\"sk-serial\"><div class=\"sk-item\"><div class=\"sk-estimator sk-toggleable\"><input class=\"sk-toggleable__control sk-hidden--visually\" id=\"sk-estimator-id-43\" type=\"checkbox\" ><label for=\"sk-estimator-id-43\" class=\"sk-toggleable__label sk-toggleable__label-arrow\">OrdinalEncoder</label><div class=\"sk-toggleable__content\"><pre>OrdinalEncoder()</pre></div></div></div></div></div></div><div class=\"sk-parallel-item\"><div class=\"sk-item\"><div class=\"sk-label-container\"><div class=\"sk-label sk-toggleable\"><input class=\"sk-toggleable__control sk-hidden--visually\" id=\"sk-estimator-id-44\" type=\"checkbox\" ><label for=\"sk-estimator-id-44\" class=\"sk-toggleable__label sk-toggleable__label-arrow\">Scalling MinMax</label><div class=\"sk-toggleable__content\"><pre>[&#x27;n_facilitiesnearby(etc)&#x27;, &#x27;n_facilitiesnearby(publicoffice)&#x27;, &#x27;n_schoolnearby(university)&#x27;, &#x27;n_parkinglot(basement)&#x27;, &#x27;n_facilitiesinapt&#x27;]</pre></div></div></div><div class=\"sk-serial\"><div class=\"sk-item\"><div class=\"sk-estimator sk-toggleable\"><input class=\"sk-toggleable__control sk-hidden--visually\" id=\"sk-estimator-id-45\" type=\"checkbox\" ><label for=\"sk-estimator-id-45\" class=\"sk-toggleable__label sk-toggleable__label-arrow\">MinMaxScaler</label><div class=\"sk-toggleable__content\"><pre>MinMaxScaler()</pre></div></div></div></div></div></div><div class=\"sk-parallel-item\"><div class=\"sk-item\"><div class=\"sk-label-container\"><div class=\"sk-label sk-toggleable\"><input class=\"sk-toggleable__control sk-hidden--visually\" id=\"sk-estimator-id-46\" type=\"checkbox\" ><label for=\"sk-estimator-id-46\" class=\"sk-toggleable__label sk-toggleable__label-arrow\">Scalling Robust</label><div class=\"sk-toggleable__content\"><pre>[&#x27;size(sqf)&#x27;]</pre></div></div></div><div class=\"sk-serial\"><div class=\"sk-item\"><div class=\"sk-estimator sk-toggleable\"><input class=\"sk-toggleable__control sk-hidden--visually\" id=\"sk-estimator-id-47\" type=\"checkbox\" ><label for=\"sk-estimator-id-47\" class=\"sk-toggleable__label sk-toggleable__label-arrow\">RobustScaler</label><div class=\"sk-toggleable__content\"><pre>RobustScaler()</pre></div></div></div></div></div></div><div class=\"sk-parallel-item\"><div class=\"sk-item\"><div class=\"sk-label-container\"><div class=\"sk-label sk-toggleable\"><input class=\"sk-toggleable__control sk-hidden--visually\" id=\"sk-estimator-id-48\" type=\"checkbox\" ><label for=\"sk-estimator-id-48\" class=\"sk-toggleable__label sk-toggleable__label-arrow\">remainder</label><div class=\"sk-toggleable__content\"><pre>[&#x27;yearbuilt&#x27;]</pre></div></div></div><div class=\"sk-serial\"><div class=\"sk-item\"><div class=\"sk-estimator sk-toggleable\"><input class=\"sk-toggleable__control sk-hidden--visually\" id=\"sk-estimator-id-49\" type=\"checkbox\" ><label for=\"sk-estimator-id-49\" class=\"sk-toggleable__label sk-toggleable__label-arrow\">passthrough</label><div class=\"sk-toggleable__content\"><pre>passthrough</pre></div></div></div></div></div></div></div></div><div class=\"sk-item\"><div class=\"sk-estimator sk-toggleable\"><input class=\"sk-toggleable__control sk-hidden--visually\" id=\"sk-estimator-id-50\" type=\"checkbox\" ><label for=\"sk-estimator-id-50\" class=\"sk-toggleable__label sk-toggleable__label-arrow\">XGBRegressor</label><div class=\"sk-toggleable__content\"><pre>XGBRegressor(base_score=None, booster=None, callbacks=None,\n",
       "             colsample_bylevel=None, colsample_bynode=None,\n",
       "             colsample_bytree=None, early_stopping_rounds=None,\n",
       "             enable_categorical=False, eval_metric=None, feature_types=None,\n",
       "             gamma=None, gpu_id=None, grow_policy=None, importance_type=None,\n",
       "             interaction_constraints=None, learning_rate=None, max_bin=None,\n",
       "             max_cat_threshold=None, max_cat_to_onehot=None,\n",
       "             max_delta_step=None, max_depth=None, max_leaves=None,\n",
       "             min_child_weight=None, missing=nan, monotone_constraints=None,\n",
       "             n_estimators=100, n_jobs=None, num_parallel_tree=None,\n",
       "             predictor=None, random_state=1, ...)</pre></div></div></div></div></div></div></div>"
      ],
      "text/plain": [
       "Pipeline(steps=[('transformer',\n",
       "                 ColumnTransformer(remainder='passthrough',\n",
       "                                   transformers=[('Encoding OneHot',\n",
       "                                                  OneHotEncoder(),\n",
       "                                                  ['hallwaytype',\n",
       "                                                   'subwaystation']),\n",
       "                                                 ('Encoding Ordinal',\n",
       "                                                  OrdinalEncoder(),\n",
       "                                                  ['timetosubway']),\n",
       "                                                 ('Scalling MinMax',\n",
       "                                                  MinMaxScaler(),\n",
       "                                                  ['n_facilitiesnearby(etc)',\n",
       "                                                   'n_facilitiesnearby(publicoffice)',\n",
       "                                                   'n_schoolnearby(university)',\n",
       "                                                   'n_parkinglot(base...\n",
       "                              feature_types=None, gamma=None, gpu_id=None,\n",
       "                              grow_policy=None, importance_type=None,\n",
       "                              interaction_constraints=None, learning_rate=None,\n",
       "                              max_bin=None, max_cat_threshold=None,\n",
       "                              max_cat_to_onehot=None, max_delta_step=None,\n",
       "                              max_depth=None, max_leaves=None,\n",
       "                              min_child_weight=None, missing=nan,\n",
       "                              monotone_constraints=None, n_estimators=100,\n",
       "                              n_jobs=None, num_parallel_tree=None,\n",
       "                              predictor=None, random_state=1, ...))])"
      ]
     },
     "execution_count": 128,
     "metadata": {},
     "output_type": "execute_result"
    }
   ],
   "source": [
    "xgb_pipeline"
   ]
  },
  {
   "cell_type": "code",
   "execution_count": 129,
   "metadata": {},
   "outputs": [],
   "source": [
    "# Learning rate\n",
    "learning_rate = np.arange(0.01, 1.0, 0.001)\n",
    "\n",
    "# Jumlah pohon\n",
    "n_estimators = list(range(100, 301,1))"
   ]
  },
  {
   "cell_type": "code",
   "execution_count": 130,
   "metadata": {},
   "outputs": [],
   "source": [
    "# Membuat parameter grid untuk hyperparameter tuning\n",
    "# param_grid = {\n",
    "#     'regressor__n_estimators': [100, 200, 300],\n",
    "#     'regressor__learning_rate': [0.01, 0.1, 0.2],\n",
    "#     'regressor__max_depth': [3, 5, 7]\n",
    "# }\n",
    "\n",
    "# # Membuat objek GridSearchCV untuk mencari kombinasi parameter terbaik\n",
    "# grid_search = GridSearchCV(estimator=xgb_pipeline, param_grid=param_grid, scoring='neg_mean_squared_error', cv=5)\n",
    "# Mendefinisikan random search untuk hyperparameter tuning\n",
    "param_grid = {\n",
    "    'regressor__n_estimators': n_estimators,\n",
    "    'regressor__max_depth': [1, 2, 3, 4, 5, 6, 7, 8, 9, 10],\n",
    "    'regressor__learning_rate': learning_rate,\n",
    "    'regressor__subsample': [0.6, 0.8, 1.0],\n",
    "    'regressor__colsample_bytree': [0.6, 0.8, 1.0]\n",
    "}\n",
    "\n",
    "# Membangun objek RandomizedSearchCV\n",
    "random_search = RandomizedSearchCV(estimator=xgb_pipeline, param_distributions=param_grid, scoring='neg_mean_squared_error', cv=5)\n",
    "\n",
    "\n",
    "# Melakukan hyperparameter tuning menggunakan data training\n",
    "random_search.fit(X_train, y_train)\n",
    "\n",
    "# Mendapatkan model terbaik setelah tuning\n",
    "best_xgb_model = random_search.best_estimator_\n"
   ]
  },
  {
   "attachments": {},
   "cell_type": "markdown",
   "metadata": {},
   "source": [
    "Pada model XGBoost regressor ini, metode hyperparameter yang digunakan adalah Random Search. Random search menggunakan pendekatan acak dalam mencoba kombinasi nilai hyperparameternya. Random search juga untuk memilih kombinasi nilai hyperparameter secara acak. Kemudian, metode ini lebih efisien jika dibandingkan dengan gridsearch jika nilai hyperparameternya lebih besar atau lebih penting dibandingkan nilai hyperparameter yang lain.\n",
    "\n",
    "Sebelumnya sudah dilakukan juga dengan metode gridsearch, tatpi hasil yang dilakukan tidak maksimal sehingga digunakan random search."
   ]
  },
  {
   "cell_type": "code",
   "execution_count": 131,
   "metadata": {},
   "outputs": [],
   "source": [
    "# Melakukan prediksi pada data training menggunakan model terbaik\n",
    "y_pred_train = best_xgb_model.predict(X_train)\n",
    "\n",
    "r_squared_train = r2_score(y_train, y_pred_train)\n",
    "mae_train = mean_absolute_error(y_train, y_pred_train)\n",
    "rmse_train = mean_squared_error(y_train, y_pred_train, squared=False)\n",
    "mape_train = mean_absolute_percentage_error(y_train, y_pred_train)"
   ]
  },
  {
   "cell_type": "code",
   "execution_count": 132,
   "metadata": {},
   "outputs": [
    {
     "name": "stdout",
     "output_type": "stream",
     "text": [
      "XGB Regression Metrics (Training):\n",
      "R-squared: 0.8460942582335869\n",
      "MAE: 33398.486434723694\n",
      "RMSE: 42144.878511619485\n",
      "MAPE: 0.17856035318929186\n"
     ]
    }
   ],
   "source": [
    "# Menampilkan metrics\n",
    "print(\"XGB Regression Metrics (Training):\")\n",
    "print(\"R-squared:\", r_squared_train)\n",
    "print(\"MAE:\", mae_train)\n",
    "print(\"RMSE:\", rmse_train)\n",
    "print(\"MAPE:\", mape_train)"
   ]
  },
  {
   "cell_type": "code",
   "execution_count": 133,
   "metadata": {},
   "outputs": [
    {
     "data": {
      "text/html": [
       "<div>\n",
       "<style scoped>\n",
       "    .dataframe tbody tr th:only-of-type {\n",
       "        vertical-align: middle;\n",
       "    }\n",
       "\n",
       "    .dataframe tbody tr th {\n",
       "        vertical-align: top;\n",
       "    }\n",
       "\n",
       "    .dataframe thead th {\n",
       "        text-align: right;\n",
       "    }\n",
       "</style>\n",
       "<table border=\"1\" class=\"dataframe\">\n",
       "  <thead>\n",
       "    <tr style=\"text-align: right;\">\n",
       "      <th></th>\n",
       "      <th>mean_fit_time</th>\n",
       "      <th>std_fit_time</th>\n",
       "      <th>mean_score_time</th>\n",
       "      <th>std_score_time</th>\n",
       "      <th>param_regressor__subsample</th>\n",
       "      <th>param_regressor__n_estimators</th>\n",
       "      <th>param_regressor__max_depth</th>\n",
       "      <th>param_regressor__learning_rate</th>\n",
       "      <th>param_regressor__colsample_bytree</th>\n",
       "      <th>params</th>\n",
       "      <th>split0_test_score</th>\n",
       "      <th>split1_test_score</th>\n",
       "      <th>split2_test_score</th>\n",
       "      <th>split3_test_score</th>\n",
       "      <th>split4_test_score</th>\n",
       "      <th>mean_test_score</th>\n",
       "      <th>std_test_score</th>\n",
       "      <th>rank_test_score</th>\n",
       "    </tr>\n",
       "  </thead>\n",
       "  <tbody>\n",
       "    <tr>\n",
       "      <th>0</th>\n",
       "      <td>0.097990</td>\n",
       "      <td>0.011540</td>\n",
       "      <td>0.009936</td>\n",
       "      <td>0.000347</td>\n",
       "      <td>0.8</td>\n",
       "      <td>137</td>\n",
       "      <td>2</td>\n",
       "      <td>0.156</td>\n",
       "      <td>1.0</td>\n",
       "      <td>{'regressor__subsample': 0.8, 'regressor__n_es...</td>\n",
       "      <td>-1.920736e+09</td>\n",
       "      <td>-1.877423e+09</td>\n",
       "      <td>-1.822366e+09</td>\n",
       "      <td>-1.942776e+09</td>\n",
       "      <td>-1.962081e+09</td>\n",
       "      <td>-1.905076e+09</td>\n",
       "      <td>5.004339e+07</td>\n",
       "      <td>6</td>\n",
       "    </tr>\n",
       "    <tr>\n",
       "      <th>1</th>\n",
       "      <td>0.244132</td>\n",
       "      <td>0.019662</td>\n",
       "      <td>0.011920</td>\n",
       "      <td>0.000360</td>\n",
       "      <td>1.0</td>\n",
       "      <td>190</td>\n",
       "      <td>7</td>\n",
       "      <td>0.673</td>\n",
       "      <td>0.6</td>\n",
       "      <td>{'regressor__subsample': 1.0, 'regressor__n_es...</td>\n",
       "      <td>-1.902306e+09</td>\n",
       "      <td>-1.901711e+09</td>\n",
       "      <td>-1.813983e+09</td>\n",
       "      <td>-1.976064e+09</td>\n",
       "      <td>-1.916959e+09</td>\n",
       "      <td>-1.902205e+09</td>\n",
       "      <td>5.187724e+07</td>\n",
       "      <td>4</td>\n",
       "    </tr>\n",
       "    <tr>\n",
       "      <th>2</th>\n",
       "      <td>0.212067</td>\n",
       "      <td>0.015431</td>\n",
       "      <td>0.010050</td>\n",
       "      <td>0.000841</td>\n",
       "      <td>0.6</td>\n",
       "      <td>189</td>\n",
       "      <td>5</td>\n",
       "      <td>0.514</td>\n",
       "      <td>0.6</td>\n",
       "      <td>{'regressor__subsample': 0.6, 'regressor__n_es...</td>\n",
       "      <td>-1.917252e+09</td>\n",
       "      <td>-1.935100e+09</td>\n",
       "      <td>-1.828448e+09</td>\n",
       "      <td>-2.031763e+09</td>\n",
       "      <td>-1.961392e+09</td>\n",
       "      <td>-1.934791e+09</td>\n",
       "      <td>6.592069e+07</td>\n",
       "      <td>9</td>\n",
       "    </tr>\n",
       "    <tr>\n",
       "      <th>3</th>\n",
       "      <td>0.262635</td>\n",
       "      <td>0.011549</td>\n",
       "      <td>0.010324</td>\n",
       "      <td>0.000755</td>\n",
       "      <td>0.6</td>\n",
       "      <td>171</td>\n",
       "      <td>6</td>\n",
       "      <td>0.736</td>\n",
       "      <td>1.0</td>\n",
       "      <td>{'regressor__subsample': 0.6, 'regressor__n_es...</td>\n",
       "      <td>-1.887459e+09</td>\n",
       "      <td>-1.951730e+09</td>\n",
       "      <td>-1.824111e+09</td>\n",
       "      <td>-1.980208e+09</td>\n",
       "      <td>-1.955422e+09</td>\n",
       "      <td>-1.919786e+09</td>\n",
       "      <td>5.681520e+07</td>\n",
       "      <td>7</td>\n",
       "    </tr>\n",
       "    <tr>\n",
       "      <th>4</th>\n",
       "      <td>0.131216</td>\n",
       "      <td>0.011877</td>\n",
       "      <td>0.010093</td>\n",
       "      <td>0.000815</td>\n",
       "      <td>0.8</td>\n",
       "      <td>158</td>\n",
       "      <td>3</td>\n",
       "      <td>0.171</td>\n",
       "      <td>0.8</td>\n",
       "      <td>{'regressor__subsample': 0.8, 'regressor__n_es...</td>\n",
       "      <td>-1.886272e+09</td>\n",
       "      <td>-1.897190e+09</td>\n",
       "      <td>-1.794479e+09</td>\n",
       "      <td>-1.932349e+09</td>\n",
       "      <td>-1.925447e+09</td>\n",
       "      <td>-1.887147e+09</td>\n",
       "      <td>4.939474e+07</td>\n",
       "      <td>1</td>\n",
       "    </tr>\n",
       "  </tbody>\n",
       "</table>\n",
       "</div>"
      ],
      "text/plain": [
       "   mean_fit_time  std_fit_time  mean_score_time  std_score_time  \\\n",
       "0       0.097990      0.011540         0.009936        0.000347   \n",
       "1       0.244132      0.019662         0.011920        0.000360   \n",
       "2       0.212067      0.015431         0.010050        0.000841   \n",
       "3       0.262635      0.011549         0.010324        0.000755   \n",
       "4       0.131216      0.011877         0.010093        0.000815   \n",
       "\n",
       "  param_regressor__subsample param_regressor__n_estimators  \\\n",
       "0                        0.8                           137   \n",
       "1                        1.0                           190   \n",
       "2                        0.6                           189   \n",
       "3                        0.6                           171   \n",
       "4                        0.8                           158   \n",
       "\n",
       "  param_regressor__max_depth param_regressor__learning_rate  \\\n",
       "0                          2                          0.156   \n",
       "1                          7                          0.673   \n",
       "2                          5                          0.514   \n",
       "3                          6                          0.736   \n",
       "4                          3                          0.171   \n",
       "\n",
       "  param_regressor__colsample_bytree  \\\n",
       "0                               1.0   \n",
       "1                               0.6   \n",
       "2                               0.6   \n",
       "3                               1.0   \n",
       "4                               0.8   \n",
       "\n",
       "                                              params  split0_test_score  \\\n",
       "0  {'regressor__subsample': 0.8, 'regressor__n_es...      -1.920736e+09   \n",
       "1  {'regressor__subsample': 1.0, 'regressor__n_es...      -1.902306e+09   \n",
       "2  {'regressor__subsample': 0.6, 'regressor__n_es...      -1.917252e+09   \n",
       "3  {'regressor__subsample': 0.6, 'regressor__n_es...      -1.887459e+09   \n",
       "4  {'regressor__subsample': 0.8, 'regressor__n_es...      -1.886272e+09   \n",
       "\n",
       "   split1_test_score  split2_test_score  split3_test_score  split4_test_score  \\\n",
       "0      -1.877423e+09      -1.822366e+09      -1.942776e+09      -1.962081e+09   \n",
       "1      -1.901711e+09      -1.813983e+09      -1.976064e+09      -1.916959e+09   \n",
       "2      -1.935100e+09      -1.828448e+09      -2.031763e+09      -1.961392e+09   \n",
       "3      -1.951730e+09      -1.824111e+09      -1.980208e+09      -1.955422e+09   \n",
       "4      -1.897190e+09      -1.794479e+09      -1.932349e+09      -1.925447e+09   \n",
       "\n",
       "   mean_test_score  std_test_score  rank_test_score  \n",
       "0    -1.905076e+09    5.004339e+07                6  \n",
       "1    -1.902205e+09    5.187724e+07                4  \n",
       "2    -1.934791e+09    6.592069e+07                9  \n",
       "3    -1.919786e+09    5.681520e+07                7  \n",
       "4    -1.887147e+09    4.939474e+07                1  "
      ]
     },
     "execution_count": 133,
     "metadata": {},
     "output_type": "execute_result"
    }
   ],
   "source": [
    "pd.DataFrame(random_search.cv_results_).head()"
   ]
  },
  {
   "cell_type": "code",
   "execution_count": 134,
   "metadata": {},
   "outputs": [],
   "source": [
    "# Melakukan prediksi pada data testing menggunakan model terbaik\n",
    "y_pred_xgb = best_xgb_model.predict(X_test)\n",
    "\n",
    "# Menghitung metrics\n",
    "r_squared_xgb = r2_score(y_test, y_pred_xgb)\n",
    "mae_xgb = mean_absolute_error(y_test, y_pred_xgb)\n",
    "rmse_xgb = mean_squared_error(y_test, y_pred_xgb, squared=False)\n",
    "mape_xgb = mean_absolute_percentage_error(y_test, y_pred_xgb)"
   ]
  },
  {
   "cell_type": "code",
   "execution_count": 135,
   "metadata": {},
   "outputs": [
    {
     "name": "stdout",
     "output_type": "stream",
     "text": [
      "XGB Regression Metrics (Testing):\n",
      "R-squared: 0.8436546446826243\n",
      "MAE: 32202.44456439394\n",
      "RMSE: 41061.80832082748\n",
      "MAPE: 0.1785234005856098\n",
      "Best Parameters: {'regressor__subsample': 0.8, 'regressor__n_estimators': 158, 'regressor__max_depth': 3, 'regressor__learning_rate': 0.17099999999999987, 'regressor__colsample_bytree': 0.8}\n"
     ]
    }
   ],
   "source": [
    "# Menampilkan metrics\n",
    "print(\"XGB Regression Metrics (Testing):\")\n",
    "print(\"R-squared:\", r_squared_xgb)\n",
    "print(\"MAE:\", mae_xgb)\n",
    "print(\"RMSE:\", rmse_xgb)\n",
    "print(\"MAPE:\", mape_xgb)\n",
    "\n",
    "# Menampilkan kombinasi parameter terbaik\n",
    "print(\"Best Parameters:\", random_search.best_params_)"
   ]
  },
  {
   "attachments": {},
   "cell_type": "markdown",
   "metadata": {},
   "source": [
    "Berdasarkan dari hasil hyperparameter tuning dari model XGBoost diatas, dapat dilihat nilai R2 dari model tersebut meningkat menjadi 0.8436 dari yang sebelumnya 0.8430. Hal tersebut menandakan adanya peningkatan dari model XGBoost meskipun hanya sedikit meningkat. Jika dilihat dari RMSEnya juga ada penurunan dari sebelumnya yang bernilai 41140.085458 menjadi 41061.808. Begitu pun dengan MAEnya, yaitu juga menurun. Untuk MAPEnya terdapat penurunan dari sebelum model di tuning.\n",
    "\n",
    "Sebelum Tuning:\n",
    "- R2: 0.843058, MAE: 32222.422240, RMSE: 41140.085458, MAPE: 0.178085\n",
    "\n",
    "Sesudah Tuning:\n",
    "- R2: 0.84365, MAE: 32202.444, RMSE: 41061.808, MAPE: 0.17852"
   ]
  },
  {
   "attachments": {},
   "cell_type": "markdown",
   "metadata": {},
   "source": [
    "## Feature Importance"
   ]
  },
  {
   "cell_type": "code",
   "execution_count": 136,
   "metadata": {},
   "outputs": [],
   "source": [
    "xgb_estimator = best_xgb_model.named_steps['regressor']"
   ]
  },
  {
   "cell_type": "code",
   "execution_count": 137,
   "metadata": {},
   "outputs": [],
   "source": [
    "importance_scores = xgb_estimator.feature_importances_"
   ]
  },
  {
   "cell_type": "code",
   "execution_count": 138,
   "metadata": {},
   "outputs": [],
   "source": [
    "booster = xgb_estimator.get_booster()\n",
    "importances_s =booster.get_score(importance_type='gain') "
   ]
  },
  {
   "cell_type": "code",
   "execution_count": 139,
   "metadata": {},
   "outputs": [
    {
     "name": "stdout",
     "output_type": "stream",
     "text": [
      "['hallwaytype_corridor' 'hallwaytype_mixed' 'hallwaytype_terraced'\n",
      " 'subwaystation_Bangoge' 'subwaystation_Banwoldang'\n",
      " 'subwaystation_Chil-sung-market' 'subwaystation_Daegu'\n",
      " 'subwaystation_Kyungbuk_uni_hospital' 'subwaystation_Myung-duk'\n",
      " 'subwaystation_Sin-nam' 'subwaystation_no_subway_nearby' 'timetosubway'\n",
      " 'n_facilitiesnearby(etc)' 'n_facilitiesnearby(publicoffice)'\n",
      " 'n_schoolnearby(university)' 'n_parkinglot(basement)' 'n_facilitiesinapt'\n",
      " 'size(sqf)' 'yearbuilt']\n"
     ]
    }
   ],
   "source": [
    "transformed_features = ct.get_feature_names_out()\n",
    "print(transformed_features)"
   ]
  },
  {
   "cell_type": "code",
   "execution_count": 140,
   "metadata": {},
   "outputs": [
    {
     "data": {
      "image/png": "[encoded data removed]",
      "text/plain": [
       "<Figure size 1000x600 with 1 Axes>"
      ]
     },
     "metadata": {},
     "output_type": "display_data"
    }
   ],
   "source": [
    "sorted_idx = np.argsort(importance_scores)[::-1]\n",
    "\n",
    "# Menampilkan nama fitur yang diurutkan\n",
    "sorted_features = np.array(transformed_features)[sorted_idx]\n",
    "\n",
    "# Menampilkan skor kepentingan fitur dalam plot batang\n",
    "plt.figure(figsize=(10, 6))\n",
    "plt.barh(sorted_features, importance_scores[sorted_idx])\n",
    "plt.xlabel('Feature Importance Scores')\n",
    "plt.ylabel('Features')\n",
    "plt.title('Feature Importance')\n",
    "plt.show()"
   ]
  },
  {
   "attachments": {},
   "cell_type": "markdown",
   "metadata": {},
   "source": [
    "## **Kesimpulan**"
   ]
  },
  {
   "attachments": {},
   "cell_type": "markdown",
   "metadata": {},
   "source": [
    "Berdasarkan model yang sudah dibuat dan dijalankan, terdapat beberapa fitur yang sangat berpengaruh terhadap variabel dependen atau variabel Sale Price. Secara berurutan (dari yang paling berpengaruh), fitur-fitur tersebut adalah:\n",
    "- hallwaytype_terraced\n",
    "- n_facilitiesnearby(etc)\n",
    "- yearbuilt\n",
    "- n_parkinglot(basement)\n",
    "- size(sqf)\n",
    "- n_facilitiesinapt"
   ]
  },
  {
   "attachments": {},
   "cell_type": "markdown",
   "metadata": {},
   "source": [
    "Berdasarkan fitur-fitur tersebut kita bisa melihat hallwaytype_terraced mungkin sangat diminati oleh pembeli dikarenakan adanya teras pada unit apartemen. Hal tersebut bisa membuat harga apartemen menjadi meningkat. Begitu pula dengan n_facilitiesnearby(etc), yang membuktikan bahwa jumlah fasilitas di sekitar apartemen sangatlah menentukan harga dari unit apartemen tersebut. Kemudian fitur yang ketiga adalah tahun dibuatnya apartemen. Tentunya size memang akan sangat mempengaruhi nilai harga dari unit apartemen."
   ]
  },
  {
   "attachments": {},
   "cell_type": "markdown",
   "metadata": {},
   "source": [
    "Berdasarkan dari evaluasi metricsnya, kakuratan dari model ini dapat dilihat dari R squarednya yang sebesar 0.843 menunjukkan bahwa model yang dibuat telah dapat memprediksi sebesar 84.43% persen dari data yang ada. Jika dilihat berdasarkan MAPE, maka model ini hanya mempunyai error sebesar 17% dalam memprediksi harga unit apartemen. \n",
    "\n",
    "Model ini masih dapat ditingkatkan lagi metrics-metricsnya dan juga dari segi datanya. Mungkin selanjutnya dalam pengambilan data untuk model, dapat mengumpulkan data yang lebih beragam lagi. Dikarenakan adanya banyak model, fasilitas, dan harga unit yang sama dalam satu apartemen, dikhawatirkan akan mempunyai bias yang tinggi pada saat memprediksi harga dari unit apartemen."
   ]
  },
  {
   "attachments": {},
   "cell_type": "markdown",
   "metadata": {},
   "source": [
    "## **Rekomendasi**"
   ]
  },
  {
   "attachments": {},
   "cell_type": "markdown",
   "metadata": {},
   "source": [
    "Terdapat beberapa rekomendasi untuk model yang sudah dibuat yaitu:\n",
    "\n",
    "1. Penambahan fitur seperti kota atau distrik tempat apartemen tersebut berada. Hal tersebut dapat meningkatkan hasil analisa dan juga dapat meningkatkan pembuatan model. Fitur jumlah kamar dan tipe unit apartemen juga bisa ditambahkan kedalam dataset dengan tujuan untuk menambahkan fitur dan memperkaya pembuatan model. \n",
    "\n",
    "2. Pengambilan data kedepannya harus lebih variatif lagi untuk jenis dan tipe unit dari apartemennya, agar dapat mengurangi bias dalam prediksi model.\n",
    "\n",
    "3. Membuat dan membandingkan lebih dari satu modeli final. Membuat lebih dari satu model final dapat ningkatkan keragaman model. Diharapkan model yang banyak bisa menjadi perbandingan untuk prediksi harga apartemen yang akan datang."
   ]
  },
  {
   "cell_type": "code",
   "execution_count": 141,
   "metadata": {},
   "outputs": [],
   "source": [
    "import pickle"
   ]
  },
  {
   "cell_type": "code",
   "execution_count": 142,
   "metadata": {},
   "outputs": [],
   "source": [
    "with open('best_xgb_model.pkl', 'wb') as file:\n",
    "    pickle.dump(best_xgb_model, file)"
   ]
  },
  {
   "cell_type": "code",
   "execution_count": null,
   "metadata": {},
   "outputs": [],
   "source": []
  }
 ],
 "metadata": {
  "kernelspec": {
   "display_name": "Python 3",
   "language": "python",
   "name": "python3"
  },
  "language_info": {
   "codemirror_mode": {
    "name": "ipython",
    "version": 3
   },
   "file_extension": ".py",
   "mimetype": "text/x-python",
   "name": "python",
   "nbconvert_exporter": "python",
   "pygments_lexer": "ipython3",
   "version": "3.11.2"
  },
  "orig_nbformat": 4
 },
 "nbformat": 4,
 "nbformat_minor": 2
}
